{
 "cells": [
  {
   "cell_type": "code",
   "execution_count": 461,
   "metadata": {},
   "outputs": [],
   "source": [
    "# Loading libraries\n",
    "import pandas as pd\n",
    "import numpy as np\n",
    "import matplotlib.pyplot as plt\n",
    "import seaborn as sns\n",
    "\n",
    "import warnings\n",
    "warnings.filterwarnings('ignore')"
   ]
  },
  {
   "cell_type": "code",
   "execution_count": 462,
   "metadata": {},
   "outputs": [
    {
     "data": {
      "text/html": [
       "<div>\n",
       "<style scoped>\n",
       "    .dataframe tbody tr th:only-of-type {\n",
       "        vertical-align: middle;\n",
       "    }\n",
       "\n",
       "    .dataframe tbody tr th {\n",
       "        vertical-align: top;\n",
       "    }\n",
       "\n",
       "    .dataframe thead th {\n",
       "        text-align: right;\n",
       "    }\n",
       "</style>\n",
       "<table border=\"1\" class=\"dataframe\">\n",
       "  <thead>\n",
       "    <tr style=\"text-align: right;\">\n",
       "      <th></th>\n",
       "      <th>Qualification</th>\n",
       "      <th>Experience</th>\n",
       "      <th>Rating</th>\n",
       "      <th>Place</th>\n",
       "      <th>Profile</th>\n",
       "      <th>Miscellaneous_Info</th>\n",
       "      <th>Fees</th>\n",
       "    </tr>\n",
       "  </thead>\n",
       "  <tbody>\n",
       "    <tr>\n",
       "      <th>0</th>\n",
       "      <td>BHMS, MD - Homeopathy</td>\n",
       "      <td>24 years experience</td>\n",
       "      <td>100%</td>\n",
       "      <td>Kakkanad, Ernakulam</td>\n",
       "      <td>Homeopath</td>\n",
       "      <td>100% 16 Feedback Kakkanad, Ernakulam</td>\n",
       "      <td>100</td>\n",
       "    </tr>\n",
       "    <tr>\n",
       "      <th>1</th>\n",
       "      <td>BAMS, MD - Ayurveda Medicine</td>\n",
       "      <td>12 years experience</td>\n",
       "      <td>98%</td>\n",
       "      <td>Whitefield, Bangalore</td>\n",
       "      <td>Ayurveda</td>\n",
       "      <td>98% 76 Feedback Whitefield, Bangalore</td>\n",
       "      <td>350</td>\n",
       "    </tr>\n",
       "    <tr>\n",
       "      <th>2</th>\n",
       "      <td>MBBS, MS - Otorhinolaryngology</td>\n",
       "      <td>9 years experience</td>\n",
       "      <td>NaN</td>\n",
       "      <td>Mathikere - BEL, Bangalore</td>\n",
       "      <td>ENT Specialist</td>\n",
       "      <td>NaN</td>\n",
       "      <td>300</td>\n",
       "    </tr>\n",
       "    <tr>\n",
       "      <th>3</th>\n",
       "      <td>BSc - Zoology, BAMS</td>\n",
       "      <td>12 years experience</td>\n",
       "      <td>NaN</td>\n",
       "      <td>Bannerghatta Road, Bangalore</td>\n",
       "      <td>Ayurveda</td>\n",
       "      <td>Bannerghatta Road, Bangalore ₹250 Available on...</td>\n",
       "      <td>250</td>\n",
       "    </tr>\n",
       "    <tr>\n",
       "      <th>4</th>\n",
       "      <td>BAMS</td>\n",
       "      <td>20 years experience</td>\n",
       "      <td>100%</td>\n",
       "      <td>Keelkattalai, Chennai</td>\n",
       "      <td>Ayurveda</td>\n",
       "      <td>100% 4 Feedback Keelkattalai, Chennai</td>\n",
       "      <td>250</td>\n",
       "    </tr>\n",
       "    <tr>\n",
       "      <th>...</th>\n",
       "      <td>...</td>\n",
       "      <td>...</td>\n",
       "      <td>...</td>\n",
       "      <td>...</td>\n",
       "      <td>...</td>\n",
       "      <td>...</td>\n",
       "      <td>...</td>\n",
       "    </tr>\n",
       "    <tr>\n",
       "      <th>5956</th>\n",
       "      <td>MBBS, MS - ENT</td>\n",
       "      <td>19 years experience</td>\n",
       "      <td>98%</td>\n",
       "      <td>Basavanagudi, Bangalore</td>\n",
       "      <td>ENT Specialist</td>\n",
       "      <td>98% 45 Feedback Basavanagudi, Bangalore</td>\n",
       "      <td>300</td>\n",
       "    </tr>\n",
       "    <tr>\n",
       "      <th>5957</th>\n",
       "      <td>MBBS</td>\n",
       "      <td>33 years experience</td>\n",
       "      <td>NaN</td>\n",
       "      <td>Nungambakkam, Chennai</td>\n",
       "      <td>General Medicine</td>\n",
       "      <td>NaN</td>\n",
       "      <td>100</td>\n",
       "    </tr>\n",
       "    <tr>\n",
       "      <th>5958</th>\n",
       "      <td>MBBS</td>\n",
       "      <td>41 years experience</td>\n",
       "      <td>97%</td>\n",
       "      <td>Greater Kailash Part 2, Delhi</td>\n",
       "      <td>General Medicine</td>\n",
       "      <td>97% 11 Feedback Greater Kailash Part 2, Delhi</td>\n",
       "      <td>600</td>\n",
       "    </tr>\n",
       "    <tr>\n",
       "      <th>5959</th>\n",
       "      <td>MBBS, MD - General Medicine</td>\n",
       "      <td>15 years experience</td>\n",
       "      <td>90%</td>\n",
       "      <td>Vileparle West, Mumbai</td>\n",
       "      <td>General Medicine</td>\n",
       "      <td>General Medical Consultation Viral Fever Treat...</td>\n",
       "      <td>100</td>\n",
       "    </tr>\n",
       "    <tr>\n",
       "      <th>5960</th>\n",
       "      <td>BDS, MDS - Orthodontics</td>\n",
       "      <td>17 years experience</td>\n",
       "      <td>100%</td>\n",
       "      <td>Pitampura, Delhi</td>\n",
       "      <td>Dentist</td>\n",
       "      <td>Acrylic Partial Denture Crowns and Bridges Fix...</td>\n",
       "      <td>200</td>\n",
       "    </tr>\n",
       "  </tbody>\n",
       "</table>\n",
       "<p>5961 rows × 7 columns</p>\n",
       "</div>"
      ],
      "text/plain": [
       "                       Qualification           Experience Rating  \\\n",
       "0              BHMS, MD - Homeopathy  24 years experience   100%   \n",
       "1       BAMS, MD - Ayurveda Medicine  12 years experience    98%   \n",
       "2     MBBS, MS - Otorhinolaryngology   9 years experience    NaN   \n",
       "3                BSc - Zoology, BAMS  12 years experience    NaN   \n",
       "4                               BAMS  20 years experience   100%   \n",
       "...                              ...                  ...    ...   \n",
       "5956                  MBBS, MS - ENT  19 years experience    98%   \n",
       "5957                            MBBS  33 years experience    NaN   \n",
       "5958                            MBBS  41 years experience    97%   \n",
       "5959     MBBS, MD - General Medicine  15 years experience    90%   \n",
       "5960         BDS, MDS - Orthodontics  17 years experience   100%   \n",
       "\n",
       "                              Place           Profile  \\\n",
       "0               Kakkanad, Ernakulam         Homeopath   \n",
       "1             Whitefield, Bangalore          Ayurveda   \n",
       "2        Mathikere - BEL, Bangalore    ENT Specialist   \n",
       "3      Bannerghatta Road, Bangalore          Ayurveda   \n",
       "4             Keelkattalai, Chennai          Ayurveda   \n",
       "...                             ...               ...   \n",
       "5956        Basavanagudi, Bangalore    ENT Specialist   \n",
       "5957          Nungambakkam, Chennai  General Medicine   \n",
       "5958  Greater Kailash Part 2, Delhi  General Medicine   \n",
       "5959         Vileparle West, Mumbai  General Medicine   \n",
       "5960               Pitampura, Delhi           Dentist   \n",
       "\n",
       "                                     Miscellaneous_Info  Fees  \n",
       "0                  100% 16 Feedback Kakkanad, Ernakulam   100  \n",
       "1                 98% 76 Feedback Whitefield, Bangalore   350  \n",
       "2                                                   NaN   300  \n",
       "3     Bannerghatta Road, Bangalore ₹250 Available on...   250  \n",
       "4                 100% 4 Feedback Keelkattalai, Chennai   250  \n",
       "...                                                 ...   ...  \n",
       "5956            98% 45 Feedback Basavanagudi, Bangalore   300  \n",
       "5957                                                NaN   100  \n",
       "5958      97% 11 Feedback Greater Kailash Part 2, Delhi   600  \n",
       "5959  General Medical Consultation Viral Fever Treat...   100  \n",
       "5960  Acrylic Partial Denture Crowns and Bridges Fix...   200  \n",
       "\n",
       "[5961 rows x 7 columns]"
      ]
     },
     "execution_count": 462,
     "metadata": {},
     "output_type": "execute_result"
    }
   ],
   "source": [
    "#Loading the data\n",
    "df_train=pd.read_excel('C:/Users/Admin/Desktop/Saiprakash/DT/Final_Train.xlsx')\n",
    "df_train"
   ]
  },
  {
   "cell_type": "code",
   "execution_count": 463,
   "metadata": {},
   "outputs": [
    {
     "data": {
      "text/html": [
       "<div>\n",
       "<style scoped>\n",
       "    .dataframe tbody tr th:only-of-type {\n",
       "        vertical-align: middle;\n",
       "    }\n",
       "\n",
       "    .dataframe tbody tr th {\n",
       "        vertical-align: top;\n",
       "    }\n",
       "\n",
       "    .dataframe thead th {\n",
       "        text-align: right;\n",
       "    }\n",
       "</style>\n",
       "<table border=\"1\" class=\"dataframe\">\n",
       "  <thead>\n",
       "    <tr style=\"text-align: right;\">\n",
       "      <th></th>\n",
       "      <th>Qualification</th>\n",
       "      <th>Experience</th>\n",
       "      <th>Rating</th>\n",
       "      <th>Place</th>\n",
       "      <th>Profile</th>\n",
       "      <th>Miscellaneous_Info</th>\n",
       "    </tr>\n",
       "  </thead>\n",
       "  <tbody>\n",
       "    <tr>\n",
       "      <th>0</th>\n",
       "      <td>MBBS</td>\n",
       "      <td>35 years experience</td>\n",
       "      <td>NaN</td>\n",
       "      <td>Ghatkopar East, Mumbai</td>\n",
       "      <td>General Medicine</td>\n",
       "      <td>NaN</td>\n",
       "    </tr>\n",
       "    <tr>\n",
       "      <th>1</th>\n",
       "      <td>MBBS, Diploma in Otorhinolaryngology (DLO)</td>\n",
       "      <td>31 years experience</td>\n",
       "      <td>NaN</td>\n",
       "      <td>West Marredpally, Hyderabad</td>\n",
       "      <td>ENT Specialist</td>\n",
       "      <td>NaN</td>\n",
       "    </tr>\n",
       "    <tr>\n",
       "      <th>2</th>\n",
       "      <td>MBBS, DDVL</td>\n",
       "      <td>40 years experience</td>\n",
       "      <td>70%</td>\n",
       "      <td>KK Nagar, Chennai</td>\n",
       "      <td>Dermatologists</td>\n",
       "      <td>70% 4 Feedback KK Nagar, Chennai</td>\n",
       "    </tr>\n",
       "    <tr>\n",
       "      <th>3</th>\n",
       "      <td>BAMS</td>\n",
       "      <td>0 years experience</td>\n",
       "      <td>NaN</td>\n",
       "      <td>New Ashok Nagar, Delhi</td>\n",
       "      <td>Ayurveda</td>\n",
       "      <td>NaN</td>\n",
       "    </tr>\n",
       "    <tr>\n",
       "      <th>4</th>\n",
       "      <td>BDS, MDS - Conservative Dentistry &amp; Endodontics</td>\n",
       "      <td>16 years experience</td>\n",
       "      <td>100%</td>\n",
       "      <td>Kanakpura Road, Bangalore</td>\n",
       "      <td>Dentist</td>\n",
       "      <td>General Dentistry Conservative Dentistry Cosme...</td>\n",
       "    </tr>\n",
       "    <tr>\n",
       "      <th>...</th>\n",
       "      <td>...</td>\n",
       "      <td>...</td>\n",
       "      <td>...</td>\n",
       "      <td>...</td>\n",
       "      <td>...</td>\n",
       "      <td>...</td>\n",
       "    </tr>\n",
       "    <tr>\n",
       "      <th>1982</th>\n",
       "      <td>BAMS, Doctor of Medicine</td>\n",
       "      <td>10 years experience</td>\n",
       "      <td>NaN</td>\n",
       "      <td>Basavanagudi, Bangalore</td>\n",
       "      <td>Ayurveda</td>\n",
       "      <td>NaN</td>\n",
       "    </tr>\n",
       "    <tr>\n",
       "      <th>1983</th>\n",
       "      <td>MD - Dermatology , Venereology &amp; Leprosy, MBBS</td>\n",
       "      <td>4 years experience</td>\n",
       "      <td>NaN</td>\n",
       "      <td>Choolai, Chennai</td>\n",
       "      <td>Dermatologists</td>\n",
       "      <td>NaN</td>\n",
       "    </tr>\n",
       "    <tr>\n",
       "      <th>1984</th>\n",
       "      <td>MBBS, MD / MS - Obstetrics &amp; Gynaecology</td>\n",
       "      <td>9 years experience</td>\n",
       "      <td>NaN</td>\n",
       "      <td>Porur, Chennai</td>\n",
       "      <td>General Medicine</td>\n",
       "      <td>NaN</td>\n",
       "    </tr>\n",
       "    <tr>\n",
       "      <th>1985</th>\n",
       "      <td>BDS</td>\n",
       "      <td>12 years experience</td>\n",
       "      <td>98%</td>\n",
       "      <td>Arekere, Bangalore</td>\n",
       "      <td>Dentist</td>\n",
       "      <td>RCT - Root Canal Treatment Root Canal Treatmen...</td>\n",
       "    </tr>\n",
       "    <tr>\n",
       "      <th>1986</th>\n",
       "      <td>MBBS, MD - Dermatology , Venereology &amp; Leprosy</td>\n",
       "      <td>8 years experience</td>\n",
       "      <td>NaN</td>\n",
       "      <td>Pallikaranai, Chennai</td>\n",
       "      <td>Dermatologists</td>\n",
       "      <td>1 Feedback Pallikaranai, Chennai ₹500</td>\n",
       "    </tr>\n",
       "  </tbody>\n",
       "</table>\n",
       "<p>1987 rows × 6 columns</p>\n",
       "</div>"
      ],
      "text/plain": [
       "                                        Qualification           Experience  \\\n",
       "0                                                MBBS  35 years experience   \n",
       "1          MBBS, Diploma in Otorhinolaryngology (DLO)  31 years experience   \n",
       "2                                          MBBS, DDVL  40 years experience   \n",
       "3                                                BAMS   0 years experience   \n",
       "4     BDS, MDS - Conservative Dentistry & Endodontics  16 years experience   \n",
       "...                                               ...                  ...   \n",
       "1982                         BAMS, Doctor of Medicine  10 years experience   \n",
       "1983   MD - Dermatology , Venereology & Leprosy, MBBS   4 years experience   \n",
       "1984         MBBS, MD / MS - Obstetrics & Gynaecology   9 years experience   \n",
       "1985                                              BDS  12 years experience   \n",
       "1986   MBBS, MD - Dermatology , Venereology & Leprosy   8 years experience   \n",
       "\n",
       "     Rating                        Place           Profile  \\\n",
       "0       NaN       Ghatkopar East, Mumbai  General Medicine   \n",
       "1       NaN  West Marredpally, Hyderabad    ENT Specialist   \n",
       "2       70%            KK Nagar, Chennai    Dermatologists   \n",
       "3       NaN       New Ashok Nagar, Delhi          Ayurveda   \n",
       "4      100%    Kanakpura Road, Bangalore           Dentist   \n",
       "...     ...                          ...               ...   \n",
       "1982    NaN      Basavanagudi, Bangalore          Ayurveda   \n",
       "1983    NaN             Choolai, Chennai    Dermatologists   \n",
       "1984    NaN               Porur, Chennai  General Medicine   \n",
       "1985    98%           Arekere, Bangalore           Dentist   \n",
       "1986    NaN        Pallikaranai, Chennai    Dermatologists   \n",
       "\n",
       "                                     Miscellaneous_Info  \n",
       "0                                                   NaN  \n",
       "1                                                   NaN  \n",
       "2                      70% 4 Feedback KK Nagar, Chennai  \n",
       "3                                                   NaN  \n",
       "4     General Dentistry Conservative Dentistry Cosme...  \n",
       "...                                                 ...  \n",
       "1982                                                NaN  \n",
       "1983                                                NaN  \n",
       "1984                                                NaN  \n",
       "1985  RCT - Root Canal Treatment Root Canal Treatmen...  \n",
       "1986              1 Feedback Pallikaranai, Chennai ₹500  \n",
       "\n",
       "[1987 rows x 6 columns]"
      ]
     },
     "execution_count": 463,
     "metadata": {},
     "output_type": "execute_result"
    }
   ],
   "source": [
    "#Loading the test data\n",
    "df_test = pd.read_excel('C:/Users/Admin/Desktop/Saiprakash/DT/Final_Test.xlsx')\n",
    "df_test"
   ]
  },
  {
   "cell_type": "markdown",
   "metadata": {},
   "source": [
    "# DATASET DESCRIPTION"
   ]
  },
  {
   "cell_type": "markdown",
   "metadata": {},
   "source": [
    "FEATURES:\n",
    "\n",
    "Qualification: Qualification and degrees held by the doctor\n",
    "\n",
    "Experience: Experience of the doctor in number of years\n",
    "\n",
    "Rating: Rating given by patients\n",
    "\n",
    "Profile: Type of the doctor\n",
    "\n",
    "Miscellaeous_Info: Extra information about the doctor\n",
    "\n",
    "Fees: Fees charged by the doctor\n",
    "\n",
    "Place: Area and the city where the doctor is located."
   ]
  },
  {
   "cell_type": "markdown",
   "metadata": {},
   "source": [
    "# Train Data"
   ]
  },
  {
   "cell_type": "code",
   "execution_count": 464,
   "metadata": {},
   "outputs": [
    {
     "data": {
      "text/html": [
       "<div>\n",
       "<style scoped>\n",
       "    .dataframe tbody tr th:only-of-type {\n",
       "        vertical-align: middle;\n",
       "    }\n",
       "\n",
       "    .dataframe tbody tr th {\n",
       "        vertical-align: top;\n",
       "    }\n",
       "\n",
       "    .dataframe thead th {\n",
       "        text-align: right;\n",
       "    }\n",
       "</style>\n",
       "<table border=\"1\" class=\"dataframe\">\n",
       "  <thead>\n",
       "    <tr style=\"text-align: right;\">\n",
       "      <th></th>\n",
       "      <th>Qualification</th>\n",
       "      <th>Experience</th>\n",
       "      <th>Rating</th>\n",
       "      <th>Place</th>\n",
       "      <th>Profile</th>\n",
       "      <th>Miscellaneous_Info</th>\n",
       "      <th>Fees</th>\n",
       "    </tr>\n",
       "  </thead>\n",
       "  <tbody>\n",
       "    <tr>\n",
       "      <th>0</th>\n",
       "      <td>BHMS, MD - Homeopathy</td>\n",
       "      <td>24 years experience</td>\n",
       "      <td>100%</td>\n",
       "      <td>Kakkanad, Ernakulam</td>\n",
       "      <td>Homeopath</td>\n",
       "      <td>100% 16 Feedback Kakkanad, Ernakulam</td>\n",
       "      <td>100</td>\n",
       "    </tr>\n",
       "    <tr>\n",
       "      <th>1</th>\n",
       "      <td>BAMS, MD - Ayurveda Medicine</td>\n",
       "      <td>12 years experience</td>\n",
       "      <td>98%</td>\n",
       "      <td>Whitefield, Bangalore</td>\n",
       "      <td>Ayurveda</td>\n",
       "      <td>98% 76 Feedback Whitefield, Bangalore</td>\n",
       "      <td>350</td>\n",
       "    </tr>\n",
       "    <tr>\n",
       "      <th>2</th>\n",
       "      <td>MBBS, MS - Otorhinolaryngology</td>\n",
       "      <td>9 years experience</td>\n",
       "      <td>NaN</td>\n",
       "      <td>Mathikere - BEL, Bangalore</td>\n",
       "      <td>ENT Specialist</td>\n",
       "      <td>NaN</td>\n",
       "      <td>300</td>\n",
       "    </tr>\n",
       "    <tr>\n",
       "      <th>3</th>\n",
       "      <td>BSc - Zoology, BAMS</td>\n",
       "      <td>12 years experience</td>\n",
       "      <td>NaN</td>\n",
       "      <td>Bannerghatta Road, Bangalore</td>\n",
       "      <td>Ayurveda</td>\n",
       "      <td>Bannerghatta Road, Bangalore ₹250 Available on...</td>\n",
       "      <td>250</td>\n",
       "    </tr>\n",
       "    <tr>\n",
       "      <th>4</th>\n",
       "      <td>BAMS</td>\n",
       "      <td>20 years experience</td>\n",
       "      <td>100%</td>\n",
       "      <td>Keelkattalai, Chennai</td>\n",
       "      <td>Ayurveda</td>\n",
       "      <td>100% 4 Feedback Keelkattalai, Chennai</td>\n",
       "      <td>250</td>\n",
       "    </tr>\n",
       "    <tr>\n",
       "      <th>...</th>\n",
       "      <td>...</td>\n",
       "      <td>...</td>\n",
       "      <td>...</td>\n",
       "      <td>...</td>\n",
       "      <td>...</td>\n",
       "      <td>...</td>\n",
       "      <td>...</td>\n",
       "    </tr>\n",
       "    <tr>\n",
       "      <th>5956</th>\n",
       "      <td>MBBS, MS - ENT</td>\n",
       "      <td>19 years experience</td>\n",
       "      <td>98%</td>\n",
       "      <td>Basavanagudi, Bangalore</td>\n",
       "      <td>ENT Specialist</td>\n",
       "      <td>98% 45 Feedback Basavanagudi, Bangalore</td>\n",
       "      <td>300</td>\n",
       "    </tr>\n",
       "    <tr>\n",
       "      <th>5957</th>\n",
       "      <td>MBBS</td>\n",
       "      <td>33 years experience</td>\n",
       "      <td>NaN</td>\n",
       "      <td>Nungambakkam, Chennai</td>\n",
       "      <td>General Medicine</td>\n",
       "      <td>NaN</td>\n",
       "      <td>100</td>\n",
       "    </tr>\n",
       "    <tr>\n",
       "      <th>5958</th>\n",
       "      <td>MBBS</td>\n",
       "      <td>41 years experience</td>\n",
       "      <td>97%</td>\n",
       "      <td>Greater Kailash Part 2, Delhi</td>\n",
       "      <td>General Medicine</td>\n",
       "      <td>97% 11 Feedback Greater Kailash Part 2, Delhi</td>\n",
       "      <td>600</td>\n",
       "    </tr>\n",
       "    <tr>\n",
       "      <th>5959</th>\n",
       "      <td>MBBS, MD - General Medicine</td>\n",
       "      <td>15 years experience</td>\n",
       "      <td>90%</td>\n",
       "      <td>Vileparle West, Mumbai</td>\n",
       "      <td>General Medicine</td>\n",
       "      <td>General Medical Consultation Viral Fever Treat...</td>\n",
       "      <td>100</td>\n",
       "    </tr>\n",
       "    <tr>\n",
       "      <th>5960</th>\n",
       "      <td>BDS, MDS - Orthodontics</td>\n",
       "      <td>17 years experience</td>\n",
       "      <td>100%</td>\n",
       "      <td>Pitampura, Delhi</td>\n",
       "      <td>Dentist</td>\n",
       "      <td>Acrylic Partial Denture Crowns and Bridges Fix...</td>\n",
       "      <td>200</td>\n",
       "    </tr>\n",
       "  </tbody>\n",
       "</table>\n",
       "<p>5961 rows × 7 columns</p>\n",
       "</div>"
      ],
      "text/plain": [
       "                       Qualification           Experience Rating  \\\n",
       "0              BHMS, MD - Homeopathy  24 years experience   100%   \n",
       "1       BAMS, MD - Ayurveda Medicine  12 years experience    98%   \n",
       "2     MBBS, MS - Otorhinolaryngology   9 years experience    NaN   \n",
       "3                BSc - Zoology, BAMS  12 years experience    NaN   \n",
       "4                               BAMS  20 years experience   100%   \n",
       "...                              ...                  ...    ...   \n",
       "5956                  MBBS, MS - ENT  19 years experience    98%   \n",
       "5957                            MBBS  33 years experience    NaN   \n",
       "5958                            MBBS  41 years experience    97%   \n",
       "5959     MBBS, MD - General Medicine  15 years experience    90%   \n",
       "5960         BDS, MDS - Orthodontics  17 years experience   100%   \n",
       "\n",
       "                              Place           Profile  \\\n",
       "0               Kakkanad, Ernakulam         Homeopath   \n",
       "1             Whitefield, Bangalore          Ayurveda   \n",
       "2        Mathikere - BEL, Bangalore    ENT Specialist   \n",
       "3      Bannerghatta Road, Bangalore          Ayurveda   \n",
       "4             Keelkattalai, Chennai          Ayurveda   \n",
       "...                             ...               ...   \n",
       "5956        Basavanagudi, Bangalore    ENT Specialist   \n",
       "5957          Nungambakkam, Chennai  General Medicine   \n",
       "5958  Greater Kailash Part 2, Delhi  General Medicine   \n",
       "5959         Vileparle West, Mumbai  General Medicine   \n",
       "5960               Pitampura, Delhi           Dentist   \n",
       "\n",
       "                                     Miscellaneous_Info  Fees  \n",
       "0                  100% 16 Feedback Kakkanad, Ernakulam   100  \n",
       "1                 98% 76 Feedback Whitefield, Bangalore   350  \n",
       "2                                                   NaN   300  \n",
       "3     Bannerghatta Road, Bangalore ₹250 Available on...   250  \n",
       "4                 100% 4 Feedback Keelkattalai, Chennai   250  \n",
       "...                                                 ...   ...  \n",
       "5956            98% 45 Feedback Basavanagudi, Bangalore   300  \n",
       "5957                                                NaN   100  \n",
       "5958      97% 11 Feedback Greater Kailash Part 2, Delhi   600  \n",
       "5959  General Medical Consultation Viral Fever Treat...   100  \n",
       "5960  Acrylic Partial Denture Crowns and Bridges Fix...   200  \n",
       "\n",
       "[5961 rows x 7 columns]"
      ]
     },
     "execution_count": 464,
     "metadata": {},
     "output_type": "execute_result"
    }
   ],
   "source": [
    "df_train"
   ]
  },
  {
   "cell_type": "code",
   "execution_count": 465,
   "metadata": {},
   "outputs": [
    {
     "name": "stdout",
     "output_type": "stream",
     "text": [
      "(5961, 7)\n"
     ]
    }
   ],
   "source": [
    "#Checking for shape (ie.,number of rows and columns.)\n",
    "print(df_train.shape)"
   ]
  },
  {
   "cell_type": "markdown",
   "metadata": {},
   "source": [
    "# Observations :"
   ]
  },
  {
   "cell_type": "markdown",
   "metadata": {},
   "source": [
    "There are 5961 rows and 7 columns present in the train dataset."
   ]
  },
  {
   "cell_type": "code",
   "execution_count": 466,
   "metadata": {},
   "outputs": [
    {
     "data": {
      "text/plain": [
       "Index(['Qualification', 'Experience', 'Rating', 'Place', 'Profile',\n",
       "       'Miscellaneous_Info', 'Fees'],\n",
       "      dtype='object')"
      ]
     },
     "execution_count": 466,
     "metadata": {},
     "output_type": "execute_result"
    }
   ],
   "source": [
    "#Checking the columns of train dataset\n",
    "df_train.columns"
   ]
  },
  {
   "cell_type": "code",
   "execution_count": 467,
   "metadata": {},
   "outputs": [
    {
     "name": "stdout",
     "output_type": "stream",
     "text": [
      "Qualification:['BHMS, MD - Homeopathy' 'BAMS, MD - Ayurveda Medicine'\n",
      " 'MBBS, MS - Otorhinolaryngology' ...\n",
      " 'MD - Dermatology , Venereology & Leprosy, MBBS, Fellowship In Dermatosurgery'\n",
      " 'BDS, certification in smile designing'\n",
      " 'MD - Homeopathy, Post Graduate Diploma in Healthcare Management(PGDHM), DHMS (Diploma in Homeopathic Medicine and Surgery)']\n",
      "BDS                                                                                                                                488\n",
      "BHMS                                                                                                                               477\n",
      "BAMS                                                                                                                               471\n",
      "MBBS                                                                                                                               334\n",
      "MBBS, MS - ENT                                                                                                                     220\n",
      "                                                                                                                                  ... \n",
      "MBBS, MS - ENT, Fellowship in ENT                                                                                                    1\n",
      "BDS, Post Graduate Diploma in Orthodontics, Post Graduate Certificate in Advanced Oral Implantology, Implant Externship Program      1\n",
      "MBBS, Fellowship in Diabetology, MRCP (UK)                                                                                           1\n",
      "MBBS, MD - Obstetrics & Gynaecology, DNB - Obstetrics & Gynecology                                                                   1\n",
      "MBBS, DNB - Otorhinolaryngology, DLO                                                                                                 1\n",
      "Name: Qualification, Length: 1420, dtype: int64\n",
      "==========================================================\n",
      "\n",
      "\n",
      "Experience:['24 years experience' '12 years experience' '9 years experience'\n",
      " '20 years experience' '8 years experience' '42 years experience'\n",
      " '10 years experience' '14 years experience' '23 years experience'\n",
      " '5 years experience' '7 years experience' '21 years experience'\n",
      " '19 years experience' '41 years experience' '31 years experience'\n",
      " '25 years experience' '16 years experience' '15 years experience'\n",
      " '11 years experience' '22 years experience' '38 years experience'\n",
      " '6 years experience' '36 years experience' '13 years experience'\n",
      " '18 years experience' '46 years experience' '40 years experience'\n",
      " '49 years experience' '33 years experience' '0 years experience'\n",
      " '27 years experience' '30 years experience' '52 years experience'\n",
      " '60 years experience' '26 years experience' '35 years experience'\n",
      " '34 years experience' '39 years experience' '32 years experience'\n",
      " '17 years experience' '28 years experience' '58 years experience'\n",
      " '4 years experience' '45 years experience' '44 years experience'\n",
      " '3 years experience' '37 years experience' '50 years experience'\n",
      " '29 years experience' '43 years experience' '54 years experience'\n",
      " '66 years experience' '2 years experience' '51 years experience'\n",
      " '47 years experience' '48 years experience' '53 years experience'\n",
      " '56 years experience' '61 years experience' '59 years experience'\n",
      " '57 years experience' '55 years experience' '65 years experience'\n",
      " '64 years experience']\n",
      "9 years experience     323\n",
      "10 years experience    294\n",
      "11 years experience    288\n",
      "8 years experience     282\n",
      "12 years experience    279\n",
      "                      ... \n",
      "66 years experience      1\n",
      "59 years experience      1\n",
      "58 years experience      1\n",
      "60 years experience      1\n",
      "65 years experience      1\n",
      "Name: Experience, Length: 64, dtype: int64\n",
      "==========================================================\n",
      "\n",
      "\n",
      "Rating:['100%' '98%' nan '99%' '79%' '95%' '97%' '94%' '88%' '90%' '80%' '93%'\n",
      " '36%' '78%' '87%' '96%' '82%' '89%' '74%' '86%' '92%' '83%' '76%' '85%'\n",
      " '56%' '91%' '68%' '60%' '75%' '69%' '73%' '67%' '77%' '33%' '55%' '71%'\n",
      " '84%' '45%' '63%' '72%' '81%' '62%' '57%' '7%' '48%' '40%' '70%' '64%'\n",
      " '65%' '47%' '58%' '53%']\n",
      "100%    684\n",
      "98%     290\n",
      "99%     259\n",
      "97%     241\n",
      "96%     220\n",
      "95%     178\n",
      "94%     115\n",
      "93%     109\n",
      "92%      66\n",
      "90%      66\n",
      "91%      60\n",
      "89%      42\n",
      "88%      41\n",
      "85%      27\n",
      "82%      23\n",
      "86%      21\n",
      "83%      21\n",
      "80%      19\n",
      "77%      16\n",
      "87%      14\n",
      "79%      13\n",
      "84%      13\n",
      "67%      12\n",
      "81%      12\n",
      "76%       9\n",
      "71%       9\n",
      "73%       8\n",
      "75%       8\n",
      "60%       7\n",
      "74%       7\n",
      "78%       6\n",
      "68%       5\n",
      "56%       5\n",
      "69%       4\n",
      "70%       4\n",
      "72%       3\n",
      "57%       3\n",
      "64%       2\n",
      "55%       2\n",
      "63%       2\n",
      "62%       2\n",
      "33%       2\n",
      "58%       1\n",
      "36%       1\n",
      "48%       1\n",
      "7%        1\n",
      "65%       1\n",
      "45%       1\n",
      "53%       1\n",
      "47%       1\n",
      "40%       1\n",
      "Name: Rating, dtype: int64\n",
      "==========================================================\n",
      "\n",
      "\n",
      "Place:['Kakkanad, Ernakulam' 'Whitefield, Bangalore'\n",
      " 'Mathikere - BEL, Bangalore' 'Bannerghatta Road, Bangalore'\n",
      " 'Keelkattalai, Chennai' 'Porur, Chennai' 'Karol Bagh, Delhi'\n",
      " 'Arekere, Bangalore' 'Old City, Hyderabad' 'Athani, Ernakulam'\n",
      " 'Thousand Lights, Chennai' 'Somajiguda, Hyderabad'\n",
      " 'Coimbatore Racecourse, Coimbatore' 'Jubilee Hills, Hyderabad'\n",
      " 'Kondli, Delhi' 'Saroor Nagar, Hyderabad' 'Tambaram West, Chennai'\n",
      " 'Purasawakkam, Chennai' 'KPHB, Hyderabad' 'HSR Layout, Bangalore'\n",
      " 'Pollachi, Coimbatore' 'Vasundhra Enclave, Delhi' 'Chembur, Mumbai'\n",
      " 'Thammanam, Ernakulam' 'Andheri, Mumbai' 'Pattom, Thiruvananthapuram'\n",
      " 'Kukatpally, Hyderabad' 'Vadavalli, Coimbatore' 'Defence Colony, Delhi'\n",
      " 'Banjara Hills, Hyderabad' 'Sion West, Mumbai' 'CR Park, Delhi'\n",
      " 'Mogappair East, Chennai' 'IP Extension, Delhi'\n",
      " 'Safdarjung Enclave, Delhi' 'New Friends Colony, Delhi'\n",
      " 'Borivali West, Mumbai' 'Saket, Delhi' 'Malad, Mumbai'\n",
      " 'Hyder Nagar, Hyderabad' 'Dahisar West, Mumbai' 'RT Nagar, Bangalore'\n",
      " 'Powai, Mumbai' 'Basheerbagh, Hyderabad' 'Musheerabad, Hyderabad'\n",
      " 'AS Rao Nagar, Hyderabad' 'Madhapur, Hyderabad' 'Gandhinagar, Hyderabad'\n",
      " 'Chetpet, Chennai' 'Vileparle East, Mumbai'\n",
      " 'Yelahanka New Town, Bangalore' 'Kodambakkam, Chennai'\n",
      " 'Malleswaram, Bangalore' 'Pallikaranai, Chennai' 'Nallakunta, Hyderabad'\n",
      " 'Paschim Vihar, Delhi' 'Meera Bagh, Delhi' 'Chattarpur, Delhi'\n",
      " 'Andheri West, Mumbai' 'Himayat Nagar, Hyderabad' 'Adambakkam, Chennai'\n",
      " 'Punjabi Bagh, Delhi' 'Mahalaxmi, Mumbai' 'Kalina, Mumbai'\n",
      " 'Attapur, Hyderabad' 'Lakdikapul, Hyderabad' 'Ambattur, Chennai'\n",
      " 'Ramnagar, Coimbatore' 'Shalimar Bagh, Delhi' 'Nungambakkam, Chennai'\n",
      " 'Miyapur, Hyderabad' 'Sagarpur, Delhi' 'Girgaon, Mumbai'\n",
      " 'Jayanagar, Bangalore' 'Palayam, Thiruvananthapuram' 'Munirka, Delhi'\n",
      " 'Tuglakabad, Delhi' 'Moosarambagh, Hyderabad' nan\n",
      " 'Anna Nagar East, Chennai' 'Bandra West, Mumbai'\n",
      " 'Kanakpura Road, Bangalore' 'Green Park, Delhi' 'Maduravoyal, Chennai'\n",
      " 'Dahisar East, Mumbai' 'Moosapet, Hyderabad' 'Koramangala, Bangalore'\n",
      " 'TV Medical College, Thiruvananthapuram' 'Kadavanthra, Ernakulam'\n",
      " 'Greams Road, Chennai' 'Bommanahalli, Bangalore' 'T Nagar, Chennai'\n",
      " 'Yelahanka, Bangalore' 'Hazrat Nizamuddin, Delhi'\n",
      " 'Old Rajendra Nagar, Delhi' 'Dadar West, Mumbai' 'Indiranagar, Bangalore'\n",
      " 'Perumbakkam, Chennai' 'Shaikpet, Hyderabad' 'Vyttila, Ernakulam'\n",
      " 'Khar West, Mumbai' 'Goregaon West, Mumbai' 'Bakkarwala, Delhi'\n",
      " 'Nesapakkam, Chennai' 'BTM Layout 2nd Stage, Bangalore'\n",
      " 'Ashok Nagar, Chennai' 'Chandivali, Mumbai' 'Uttam Nagar, Delhi'\n",
      " 'Gujranwala Town, Delhi' 'Greater Kailash Part 1, Delhi'\n",
      " 'Panchsheel Park, Delhi' 'Thoraipakkam, Chennai'\n",
      " 'South Extension 2, Delhi' 'Kandivali East, Mumbai' 'Pitampura, Delhi'\n",
      " 'Banashankari 3rd Stage, Bangalore' 'Kolenchery, Ernakulam'\n",
      " 'Kumaraswamy Layout, Bangalore' 'Vadapalani, Chennai'\n",
      " 'Manikonda, Hyderabad' 'Gandhipuram, Coimbatore'\n",
      " 'Yeshwanthpur, Bangalore' 'Ayanavaram, Chennai'\n",
      " 'Basaveshwaranagar, Bangalore' 'Malad West, Mumbai' 'Vikas Puri, Delhi'\n",
      " 'Kondapur, Hyderabad' 'Andheri East, Mumbai' 'Sulur, Coimbatore'\n",
      " 'Adyar, Chennai' 'Krishna Nagar, Delhi' 'Langer House, Hyderabad'\n",
      " 'Thiruvanmiyur, Chennai' 'Dwarka, Delhi' 'Bhandup West, Mumbai'\n",
      " 'Janak Puri, Delhi' 'Rajajinagar, Bangalore' 'South Extension 1, Delhi'\n",
      " 'Kemps Corner, Mumbai' 'Peelamedu, Coimbatore' 'Kandivali West, Mumbai'\n",
      " 'Thevara, Ernakulam' 'Wilson Garden, Bangalore' 'Wadala, Mumbai'\n",
      " 'Pahar Ganj, Delhi' 'Chanchalguda, Hyderabad' 'Chikkadpally, Hyderabad'\n",
      " 'Pasur-avanashi, Coimbatore' 'Nagarbhavi, Bangalore'\n",
      " 'Lajpat Nagar, Delhi' 'Mayur Vihar Ph-I, Delhi' 'Dilshad Garden, Delhi'\n",
      " 'Vijayanagar, Bangalore' 'Alwarpet, Chennai'\n",
      " 'Pappanamcode, Thiruvananthapuram' 'Aluva, Ernakulam'\n",
      " 'Nariman Point, Mumbai' 'Kilkattalai, Chennai' 'Dilsukhnagar, Hyderabad'\n",
      " 'Kurla West, Mumbai' 'Begumpet, Hyderabad' 'Kaloor, Ernakulam'\n",
      " 'Hitech City, Hyderabad' 'Goregaon East, Mumbai'\n",
      " 'Velandipalayam, Coimbatore' 'Ghatkopar East, Mumbai'\n",
      " 'Mulund West, Mumbai' 'Yousufguda, Hyderabad' 'Ghatkopar West, Mumbai'\n",
      " 'TVM Beach, Thiruvananthapuram' 'Vanagaram, Chennai' 'Worli, Mumbai'\n",
      " 'Koramangala 1 Block, Bangalore' 'Saki Vihar Road, Mumbai'\n",
      " 'Versova, Mumbai' 'CV Raman Nagar, Bangalore' 'Secunderabad, Hyderabad'\n",
      " 'BTM Layout 1st Stage, Bangalore' 'Ramkoti, Hyderabad'\n",
      " 'MRC Nagar, Chennai' 'Malkajgiri, Hyderabad' 'Gachibowli, Hyderabad'\n",
      " 'Mogappair West, Chennai' 'Mayur Vihar Ph-III, Delhi'\n",
      " 'Kurla East, Mumbai' 'Ashok Vihar, Delhi' 'Mahim, Mumbai'\n",
      " 'Villivakkam, Chennai' 'Srinagar Colony, Hyderabad' 'Chromepet, Chennai'\n",
      " 'Pammal, Chennai' 'Banashankari, Bangalore' 'Velachery, Chennai'\n",
      " 'Chanakyapuri, Delhi' 'Kalyan Nagar, Bangalore' 'Oshiwara, Mumbai'\n",
      " 'Karapakkam, Chennai' 'Borivali, Mumbai' 'Mylapore, Chennai'\n",
      " 'Electronics City, Bangalore' 'Perungudi, Chennai'\n",
      " 'Basavanagudi, Bangalore' 'MG Road, Bangalore' 'Thiruvottiyur, Chennai'\n",
      " 'Greater Kailash Part 2, Delhi' 'Bilekahalli, Bangalore'\n",
      " 'Nanganallur, Chennai' 'Rohini, Delhi' 'Thrikkakara, Ernakulam'\n",
      " 'Manapakkam, Chennai' 'Bellandur, Bangalore' 'Ameerpet, Hyderabad'\n",
      " 'Thiruvallom, Thiruvananthapuram' 'R.S. Puram, Coimbatore'\n",
      " 'Kumarapuram, Thiruvananthapuram' 'Palam Colony, Delhi' 'Manali, Chennai'\n",
      " 'Valasaravakkam, Chennai' 'Barkatpura, Hyderabad'\n",
      " 'Singanallur, Coimbatore' 'Mulund, Mumbai' 'Dadar East, Mumbai'\n",
      " 'Borabanda, Hyderabad' 'Model Town 3, Delhi' 'Ulsoor, Bangalore'\n",
      " 'Bhayandar West, Mumbai' 'Hari Nagar, Delhi' 'Horamavu, Bangalore'\n",
      " 'Santacruz East, Mumbai' 'OMR Road, Chennai' 'Kammana Halli, Bangalore'\n",
      " 'Tilak Nagar, Delhi' 'Panathur, Bangalore'\n",
      " 'Rajarajeshwarinagar, Bangalore' 'Paravur, Ernakulam'\n",
      " 'Preet Vihar, Delhi' 'Chembur East, Mumbai' 'Jakkur, Bangalore'\n",
      " 'Vanasthalipuram, Hyderabad' 'Mandaveli, Chennai'\n",
      " 'Kumara Park West, Bangalore' 'Domlur, Bangalore'\n",
      " 'Jeevanbhimanagar, Bangalore' 'Santacruz West, Mumbai'\n",
      " 'Shankar Vihar, Delhi' 'Jogeshwari East, Mumbai'\n",
      " 'Kasavanahalli, Bangalore' 'Ambalamukku, Thiruvananthapuram'\n",
      " 'Jhilmil Colony, Delhi' 'Dwarka Sector 7, Delhi' 'Tatabad, Coimbatore'\n",
      " 'Marine Lines, Mumbai' 'Tolichowki, Hyderabad' 'Sundarapuram, Coimbatore'\n",
      " 'Kothanur, Bangalore' 'Chinmaya Nagar, Chennai' 'Vasant Vihar, Delhi'\n",
      " 'Mehdipatnam, Hyderabad' 'Kadugodi, Bangalore' 'Ganapathy, Coimbatore'\n",
      " 'SR Nagar, Hyderabad' 'Perambur, Chennai' 'Opera House, Mumbai'\n",
      " 'Selvapuram, Coimbatore' 'Karkardooma, Delhi' 'Alwarthirunagar, Chennai'\n",
      " 'KR Puram, Bangalore' 'Ramesh Nagar, Delhi' 'Malakpet, Hyderabad'\n",
      " 'Tondiarpet, Chennai' 'Vikrampuri Colony, Hyderabad'\n",
      " 'Besant Nagar, Chennai' 'Vasant Kunj, Delhi' 'Banaswadi, Bangalore'\n",
      " 'BTM Layout, Bangalore' 'Medavakkam, Chennai' 'Vileparle West, Mumbai'\n",
      " 'Sahakaranagar, Bangalore' 'LB Nagar, Hyderabad' 'Punjagutta, Hyderabad'\n",
      " 'Yamuna Vihar, Delhi' 'Marathahalli, Bangalore'\n",
      " 'JP Nagar 2 Phase, Bangalore' 'Rani Bagh, Delhi' 'Jayamahal, Bangalore'\n",
      " 'Nagpada, Mumbai' 'Kundalahalli, Bangalore' 'Kailash Colony, Delhi'\n",
      " 'Pandav Nagar, Delhi' 'Karkhana, Hyderabad' 'West Mambalam, Chennai'\n",
      " 'Aminjikarai, Chennai' 'Madipakkam, Chennai' 'Charkop, Mumbai'\n",
      " 'Adarsh Nagar, Delhi' 'Dadar, Mumbai' 'Kaggadasapura, Bangalore'\n",
      " 'Matunga, Mumbai' 'Sun city, Hyderabad' 'Mahadevapura, Bangalore'\n",
      " 'Kalady, Ernakulam' 'Anna Nagar West, Chennai' 'Mayur Vihar Ph-II, Delhi'\n",
      " 'Tis Hazari, Delhi' 'Vennala, Ernakulam' 'Mira Road, Mumbai'\n",
      " 'Alwal, Hyderabad' 'Trimulgherry, Hyderabad'\n",
      " 'Raja Annamalai Puram, Chennai' 'JP Nagar 7 Phase, Bangalore'\n",
      " 'Old Bowenpally, Hyderabad' 'Santosh Nagar, Hyderabad'\n",
      " 'Hope College, Coimbatore' 'Mulund East, Mumbai' 'Mount Road, Chennai'\n",
      " 'Patel Nagar West, Delhi' 'Jayanagar 4 Block, Bangalore'\n",
      " 'West Marredpally, Hyderabad' 'Jagriti Enclave, Delhi'\n",
      " 'Sarita Vihar, Delhi' 'Rajendra Nagar, Hyderabad'\n",
      " 'Thudiyalur, Coimbatore' 'Bhayandar East, Mumbai'\n",
      " 'Narayanguda, Hyderabad' 'Kothapet, Hyderabad' 'KK Nagar, Chennai'\n",
      " 'Tripunithura, Ernakulam' 'Model Town, Delhi'\n",
      " 'Suchitra Circle, Hyderabad' 'Pusa Road, Delhi'\n",
      " 'Vijaynagar Colony, Hyderabad' 'Alandur, Chennai' 'Cuffe Parade, Mumbai'\n",
      " 'Kalkaji, Delhi' 'Saibaba Colony, Coimbatore'\n",
      " 'Kattakada, Thiruvananthapuram' 'Jogeshwari West, Mumbai'\n",
      " 'Erragadda, Hyderabad' 'Tilak Nagar, Hyderabad' 'Edapally, Ernakulam'\n",
      " 'Patparganj, Delhi' 'Sainikpuri, Hyderabad' 'Nanjundapuram, Coimbatore'\n",
      " 'Nizampet, Hyderabad' 'Kolathur, Chennai' 'Chamarajpet, Bangalore'\n",
      " 'Kala Ghoda, Mumbai' 'Padmarao Nagar, Hyderabad' 'Uppal, Hyderabad'\n",
      " 'Guduvanchery, Chennai' 'Satya Niketan, Delhi' 'Chanda Nagar, Hyderabad'\n",
      " 'Sowripalayam, Coimbatore' 'Vikhroli West, Mumbai'\n",
      " 'Rajouri Garden, Delhi' 'Alaknanda, Delhi' 'Millers Road, Bangalore'\n",
      " 'Kandanchavadi, Chennai' 'Vigyan Vihar, Delhi' 'Bandra East, Mumbai'\n",
      " 'Vilankurichi, Coimbatore' 'Malad East, Mumbai' 'Prabhadevi, Mumbai'\n",
      " 'Ulloor, Thiruvananthapuram' 'Rajakilpakkam, Chennai'\n",
      " 'Greater Kailash, Delhi' 'Madinaguda, Hyderabad' 'Borivali East, Mumbai'\n",
      " 'Juhu, Mumbai' 'Mugalivakkam, Chennai' 'Hebbal, Bangalore'\n",
      " 'Kirti Nagar, Delhi' 'Balaramapuram, Thiruvananthapuram'\n",
      " 'Bhandup East, Mumbai' 'VV Puram, Bangalore' 'Kilpauk, Chennai'\n",
      " 'Jacob Circle, Mumbai' 'Singasandra, Bangalore' 'Khairatabad, Hyderabad'\n",
      " 'Coimbatore Aerodrome, Coimbatore' 'J.C Nagar, Bangalore'\n",
      " 'Naraina Vihar, Delhi' 'Virugambakkam, Chennai' 'RK Puram, Delhi'\n",
      " 'Banashankari 1st Stage, Bangalore' 'Lajpat Nagar 4, Delhi'\n",
      " 'Jayanagar 5 Block, Bangalore' 'Kalyanpuri, Hyderabad'\n",
      " 'Tambaram, Chennai' 'Laxmi Nagar, Delhi' 'Anand Vihar, Delhi'\n",
      " 'Charni Road, Mumbai' 'Patel Nagar East, Delhi'\n",
      " 'Jayanagar 9 Block, Bangalore' 'Ecil, Hyderabad'\n",
      " 'Ramamurthy Nagar, Bangalore' 'Raj Nagar - 2, Delhi'\n",
      " 'Chunabhatti, Mumbai' 'Vikhroli East, Mumbai' 'Shakarpur, Delhi'\n",
      " 'Shahdara, Delhi' 'Govandi, Mumbai' 'Mira Bhayandar, Mumbai'\n",
      " 'Doddanekundi, Bangalore' 'Madhu Vihar, Delhi' 'Guindy, Chennai'\n",
      " 'Palarivattom, Ernakulam' 'Charminar, Hyderabad'\n",
      " 'Old Airport Road, Bangalore' 'Sarjapur Road, Bangalore' 'Okhla, Delhi'\n",
      " 'Baghlingampally, Hyderabad' 'Trombay, Mumbai' 'HRBR Layout, Bangalore'\n",
      " 'Fort, Mumbai' 'Shastri Nagar, Delhi' 'Red Hills, Chennai'\n",
      " 'New BEL Road, Bangalore' 'Park Town, Chennai' 'Frazer Town, Bangalore'\n",
      " 'Falaknuma, Hyderabad' 'Rohini Sector 7, Delhi' 'East Of Kailash, Delhi'\n",
      " 'Chintadripet, Chennai' 'Tagore Garden, Delhi' 'Tri Nagar, Delhi'\n",
      " 'Muttada, Thiruvananthapuram' 'Munnekollal, Bangalore'\n",
      " 'TV Museum, Thiruvananthapuram' 'Shivalik, Delhi' 'Neb Sarai, Delhi'\n",
      " 'Mahalakshmi Layout, Bangalore' 'Mankhurd, Mumbai' 'Kamla Nagar, Delhi'\n",
      " 'Saravanampatti, Coimbatore' 'Selaiyur, Chennai' 'Saligramam, Chennai'\n",
      " 'Thirumullaivoyal, Chennai' 'Teynampet, Chennai' 'Kochi, Ernakulam'\n",
      " 'Vidyaranyapura, Bangalore' 'Mogappair, Chennai' 'Mazgaon, Mumbai'\n",
      " 'Shivaji Nagar, Bangalore' 'Jangpura, Delhi'\n",
      " 'Kaudiar Square, Thiruvananthapuram' 'Arumbakkam, Chennai'\n",
      " 'Cherai, Ernakulam' 'Mira-Bhayandar Road, Mumbai' 'Ram Nagar, Delhi'\n",
      " 'Parel, Mumbai' 'Thanisandra, Bangalore' 'Pragathi Nagar, Hyderabad'\n",
      " 'Karamana, Thiruvananthapuram' 'AECS Layout, Bangalore'\n",
      " 'Nizamuddin East, Delhi' 'Ramanathapuram, Coimbatore'\n",
      " 'Anna Nagar, Chennai' 'Shenoy Nagar, Chennai' 'Siddhapudur, Coimbatore'\n",
      " 'Keshav Puram, Delhi' 'Edakochi, Ernakulam' 'Nagawara, Bangalore'\n",
      " 'Chintal, Hyderabad' 'Malviya Nagar, Delhi' 'Karwan, Hyderabad'\n",
      " 'Vazhakulam, Ernakulam' 'PMG Jn, Thiruvananthapuram'\n",
      " 'Dwarka Sector 6, Delhi' 'Viveknagar, Bangalore' 'Balapur, Hyderabad'\n",
      " 'Banashankari 2nd Stage, Bangalore' 'Azadpur, Delhi' 'Moti Nagar, Delhi'\n",
      " 'Sakinaka, Mumbai' 'Thoppumpady, Ernakulam' 'Sanath Nagar, Hyderabad'\n",
      " 'Royapettah, Chennai' 'Koramangala 5 Block, Bangalore'\n",
      " 'Kanjurmarg, Mumbai' 'Ernakulam College, Ernakulam' 'Urapakkam, Chennai'\n",
      " 'Coimbatore Ukkadam, Coimbatore' 'Sreekaryam, Thiruvananthapuram'\n",
      " 'Ernakulam North, Ernakulam' 'Sultanpur, Delhi' 'Banerji Road, Ernakulam'\n",
      " 'Balkampet, Hyderabad' 'Kavundampalayam, Coimbatore'\n",
      " 'Kanchanbagh, Hyderabad' 'Patel Nagar, Delhi' 'Kilokri, Delhi'\n",
      " 'Hoodi, Bangalore' 'New Seemapuri, Delhi' 'Seshadripuram, Bangalore'\n",
      " 'Vijaynagar, Delhi' 'Bowenpally, Hyderabad' 'Ondipudur, Coimbatore'\n",
      " 'Triplicane, Chennai' 'Richmond Town, Bangalore'\n",
      " 'New Rajendra Nagar, Delhi' 'Jahangirpuri, Delhi' 'Vivek Vihar, Delhi'\n",
      " 'Malleshpalya, Bangalore' 'Pezhakkappilly, Ernakulam'\n",
      " 'Lingampally, Hyderabad' 'Jamia Nagar, Delhi' 'Begum Bazar, Hyderabad'\n",
      " 'Lower Parel, Mumbai' 'ECR Road, Chennai' 'Nangloi, Delhi'\n",
      " 'Chintalmet, Hyderabad' 'West Of Chord Road, Bangalore' 'SV Road, Mumbai'\n",
      " 'JP Nagar 5 Phase, Bangalore' 'Sanjay Nagar, Bangalore'\n",
      " 'Panampilly Nagar, Ernakulam' 'Dharavi, Mumbai' 'Abbigere, Bangalore'\n",
      " 'Manacaud, Thiruvananthapuram' 'Poonamalle, Chennai' 'Najafgarh, Delhi'\n",
      " 'Uttarahalli, Bangalore' 'Sembakkam, Chennai' 'Tarnaka, Hyderabad'\n",
      " 'Nandanam, Chennai' 'Saidapet, Chennai' 'Choolaimedu, Chennai'\n",
      " 'Perungalathur, Chennai' 'Gulabi Bagh, Delhi' 'Jasola, Delhi'\n",
      " 'JP Nagar 3 Phase, Bangalore' 'Uppilipalayam, Coimbatore'\n",
      " 'Sadashivanagar, Bangalore' 'Rohini Sector 24, Delhi'\n",
      " 'Muvattupuzha, Ernakulam' 'Khan Market, Delhi' 'Abids, Hyderabad'\n",
      " 'Geeta Colony, Delhi' 'Madandapuram, Chennai' 'Dwarka Sector 22, Delhi'\n",
      " 'Grant Road, Mumbai' 'Jeedimetla, Hyderabad' 'Tambaram East, Chennai'\n",
      " 'Kothaguda, Hyderabad' 'Hauz Khas, Delhi' 'Habsiguda, Hyderabad'\n",
      " 'Breach Candy, Mumbai' 'Vidyanagar, Bangalore' 'Begur, Bangalore'\n",
      " 'Dahisar, Mumbai' 'Pachalam, Ernakulam' 'Perumbavoor, Ernakulam'\n",
      " 'Avadi, Chennai' 'Coimbatore Central, Coimbatore' 'Lokhandwala, Mumbai'\n",
      " 'Tiruvottiyur, Chennai' 'Ullal Upanagara, Bangalore'\n",
      " 'Perurkada, Thiruvananthapuram' 'Ashok Vihar Phase 3, Delhi'\n",
      " 'Walkeshwar, Mumbai' 'Saidabad, Hyderabad'\n",
      " 'Koramangala 6 Block, Bangalore' 'New Ashok Nagar, Delhi'\n",
      " 'Peddar Road, Mumbai' 'Aya Nagar, Delhi' 'JP Nagar, Bangalore'\n",
      " 'Sasthamangalam, Thiruvananthapuram' 'Yakutpura, Hyderabad'\n",
      " 'Sampangiramnagar, Bangalore' 'Kasturi nagar, Bangalore'\n",
      " 'Pallavaram, Chennai' 'Moti Bagh, Delhi' 'Mukherjee Nagar, Delhi'\n",
      " 'Byculla, Mumbai' 'Peeragarhi, Delhi' 'Amberpet, Hyderabad'\n",
      " 'JP Nagar 6 Phase, Bangalore' 'Sholinganallur, Chennai'\n",
      " 'Langford Road, Bangalore' 'Cumballa Hill, Mumbai' 'Colaba, Mumbai'\n",
      " 'Qutab Institutional Area, Delhi' 'Dommasandra, Bangalore'\n",
      " 'Malabar Hill, Mumbai' 'Koramangala 8 Block, Bangalore'\n",
      " 'Rohini Sector 22, Delhi' 'Lothkunta, Hyderabad'\n",
      " 'HAL 2nd Stage, Bangalore' 'Jayanagar 7 Block, Bangalore'\n",
      " 'Vadasserikonam, Thiruvananthapuram' 'East Marredpally, Hyderabad'\n",
      " 'Kelambakkam, Chennai' 'Chinchpokli, Mumbai' 'Delhi Cantt, Delhi'\n",
      " 'Padmanabhanagar, Bangalore' 'Sheikh Sarai, Delhi'\n",
      " 'Washermenpet, Chennai' 'Konanakunte, Bangalore'\n",
      " 'Ashok Vihar Phase 1, Delhi' 'Thirumala, Thiruvananthapuram'\n",
      " 'Sarjapura, Bangalore' 'JP Nagar 1 Phase, Bangalore' 'JB Nagar, Mumbai'\n",
      " 'Paruthippara, Thiruvananthapuram' 'Vikhroli, Mumbai'\n",
      " 'JP Nagar 8 Phase, Bangalore' 'GTB Nagar, Delhi' 'Vidyanagar, Hyderabad'\n",
      " 'Masab Tank, Hyderabad' 'Hafeezpet, Hyderabad' 'Jeevan Park, Delhi'\n",
      " 'Dwarka Sector 5, Delhi' 'Civil Lines, Delhi' 'Anand Niketan, Delhi'\n",
      " 'Pappanaickenpalayam, Coimbatore' 'Koovappady, Ernakulam'\n",
      " 'Dwarka, Sector 5, Delhi' 'Srirampuram, Bangalore' 'Korattur, Chennai'\n",
      " 'Pappanaickenpudur, Coimbatore' 'Gandhi Nagar, Delhi'\n",
      " 'Vignan Nagar, Bangalore' 'Ganganagar, Bangalore' 'Elamakkara, Ernakulam'\n",
      " 'Boduppal, Hyderabad' 'Tilak Nagar, Mumbai' 'Khetwadi, Mumbai'\n",
      " 'Kengeri, Bangalore' 'Sion East, Mumbai' 'Rohini Sector 6, Delhi'\n",
      " 'Kazhakuttam, Thiruvananthapuram' 'Goregaon, Mumbai'\n",
      " 'Peroor, Thiruvananthapuram' 'New Thippasandra, Bangalore'\n",
      " 'Jalahalli, Bangalore' 'King Koti, Hyderabad'\n",
      " 'Kallambalam, Thiruvananthapuram' 'Dwarka Sector 13, Delhi'\n",
      " 'Residency Road, Bangalore' 'Radhakrishnan Salai, Chennai'\n",
      " 'Hulimavu, Bangalore' 'Dasarahalli, Bangalore' 'Vileparle, Mumbai'\n",
      " 'Delhi, Delhi' 'Kachiguda, Hyderabad' 'Venkitapuram, Coimbatore'\n",
      " 'Kuniamuthur, Coimbatore' 'TV Chalai, Thiruvananthapuram'\n",
      " 'Serilingampally, Hyderabad' 'RMV 2nd Stage, Bangalore'\n",
      " 'Champapet, Hyderabad' 'Surya Niketan, Delhi' 'Kovilpalayam, Coimbatore'\n",
      " 'Nampally, Hyderabad' 'Siddapura, Bangalore' 'Neredmet, Hyderabad'\n",
      " 'Vellakinar, Coimbatore' 'Egmore, Chennai' 'Katwaria Sarai, Delhi'\n",
      " 'Navalur, Chennai' 'Mehrauli, Delhi' 'HBR Layout, Bangalore'\n",
      " 'Subhash Nagar, Delhi' 'Mallepally, Hyderabad' 'Eroor South, Ernakulam'\n",
      " 'Lajpat Nagar III, Delhi' 'Kodungaiyur, Chennai'\n",
      " 'Kuppakonanpudur, Coimbatore' 'Paradise, Hyderabad'\n",
      " 'Rohini Sector 4, Delhi' 'Koramangala 4 Block, Bangalore'\n",
      " 'Dwarka Sector 3, Delhi' 'Durga Puri, Delhi' 'Kalamassery, Ernakulam'\n",
      " 'Gulmohar Park, Delhi' 'Adugodi, Bangalore' 'Moti Nagar, Hyderabad'\n",
      " 'Nallagandla, Hyderabad' 'Gowrivakkam, Chennai' 'Periyar Nagar, Chennai'\n",
      " 'Austin Town, Bangalore' 'Afzalgunj, Hyderabad'\n",
      " 'Cotton Hill, Thiruvananthapuram' 'Goldwins, Coimbatore'\n",
      " 'Kuravankonam, Thiruvananthapuram' 'Rohini Sector 3, Delhi'\n",
      " 'Lado Sarai, Delhi' 'Koramangala 2 Block, Bangalore' 'Madangir, Delhi'\n",
      " 'Marine Drive, Mumbai' 'Marine Drive, Ernakulam' 'Angamaly, Ernakulam'\n",
      " 'Neelankarai, Chennai' 'Churchgate, Mumbai' 'Kalapatti, Coimbatore'\n",
      " 'Nand Nagri, Delhi' 'Kandivali, Mumbai' 'Madanpura, Mumbai'\n",
      " 'Hegde Nagar, Bangalore' 'Domalguda, Hyderabad' 'Mumbai Central, Mumbai'\n",
      " 'Vasanthnagar, Bangalore' 'Kapashera, Delhi' 'August Kranti Marg, Delhi'\n",
      " 'Krishna Nagar, Hyderabad' 'Lal baug, Mumbai'\n",
      " 'Perumathura, Thiruvananthapuram' 'Molarband, Delhi' 'Piravom, Ernakulam'\n",
      " 'Neeti Bagh, Delhi' 'Kishanbagh, Hyderabad' 'Shantinagar, Bangalore'\n",
      " 'Poojapura, Thiruvananthapuram' 'Rathinapuri, Coimbatore'\n",
      " 'Model Town 1, Delhi' 'Koothattukulam, Ernakulam' 'Anand Lok, Delhi'\n",
      " 'Pappanaickenpalayam West, Coimbatore' 'Subzi Mandi, Delhi'\n",
      " 'Sion, Mumbai' 'Nagole, Hyderabad' 'TVM Pettah, Thiruvananthapuram'\n",
      " 'Changampuzha Nagar, Ernakulam' 'Puzhal, Chennai'\n",
      " 'Vanchiyur, Thiruvananthapuram' 'Sukh Vihar, Delhi'\n",
      " 'Kovalam, Thiruvananthapuram' 'Swasthya Vihar, Delhi' 'Tardeo, Mumbai'\n",
      " 'Vishnu Garden, Delhi' 'Jayanagar 1 Block, Bangalore'\n",
      " 'Sion Koliwada, Mumbai' 'Marol, Mumbai' 'Kalkere, Bangalore'\n",
      " 'Sindhi Colony, Hyderabad' 'Silampur, Delhi' 'Varthur, Bangalore'\n",
      " 'Model Town 2, Delhi' 'Surajmal Vihar, Delhi' 'Chandni Chowk, Delhi'\n",
      " 'Veerakeralam, Coimbatore' 'T Dasarahalli, Bangalore'\n",
      " 'Kaggalipura, Bangalore' 'Thonnakkal, Thiruvananthapuram'\n",
      " 'Manjapra, Ernakulam' 'Yellareddyguda, Hyderabad'\n",
      " 'Kovilambakkam, Chennai' 'Broadway, Chennai' 'Podanur, Coimbatore'\n",
      " 'Kompally, Hyderabad' 'Kottivakkam, Chennai' 'Mansarover Garden, Delhi'\n",
      " 'Mandapeshwar, Mumbai' 'Rohini Sector 15, Delhi' 'Vaduthala, Ernakulam'\n",
      " 'Hebbal Kempapura, Bangalore' 'Sithalapakkam, Chennai'\n",
      " 'MKB Nagar, Chennai' 'MG Road, Hyderabad' 'Darya Ganj, Delhi'\n",
      " 'Venjaramoodu, Thiruvananthapuram' 'Kotturpuram, Chennai'\n",
      " 'Ramapuram, Chennai' 'Karmanghat, Hyderabad' 'Moula Ali, Hyderabad'\n",
      " 'Netaji Nagar, Delhi' 'Chandra Layout, Bangalore'\n",
      " 'Akshaya nagar, Bangalore' 'Nirman Vihar, Delhi' 'Vasant Enclave, Delhi'\n",
      " 'St Thomas Mount, Chennai' 'Royapuram, Chennai' 'Abhiramapuram, Chennai'\n",
      " 'Inder Puri, Delhi' 'Edayarpalayam, Coimbatore' 'Deoli, Delhi'\n",
      " 'Mulanthuruthy, Ernakulam' 'Sukhdev Vihar, Delhi' 'e'\n",
      " 'Kothamangalam, Ernakulam' 'Harlur, Bangalore' 'Bolarum, Hyderabad'\n",
      " 'Richards Town, Bangalore' 'Narela, Delhi' 'Nehru Place, Delhi'\n",
      " 'Ramanthapur, Hyderabad' 'Bali Nagar, Delhi' 'Palavakkam, Chennai'\n",
      " 'Balanagar, Hyderabad' 'Hyderguda, Hyderabad' 'Cherannagar, Coimbatore'\n",
      " 'Rohini Sector 11, Delhi' 'Dwarka Sector 4, Delhi'\n",
      " 'Palluruthy, Ernakulam' 'Vizhinjam, Thiruvananthapuram'\n",
      " 'Santacruz, Mumbai' 'Ganesh Nagar, Delhi' 'Vengal Rao Nagar, Hyderabad'\n",
      " 'Deonar, Mumbai' 'Edapally North, Ernakulam' 'Red Hills, Hyderabad'\n",
      " 'IDA Jeedimetla, Hyderabad' 'Mettupalayam, Coimbatore'\n",
      " 'Hayathnagar, Hyderabad' 'Kakkanad West, Ernakulam'\n",
      " 'Khajaguda, Hyderabad' 'Rohini Sector 5, Delhi' 'Saraswati Vihar, Delhi'\n",
      " 'Kingsway Camp, Delhi' 'Ramamangalam, Ernakulam' 'Indirapuram, Delhi'\n",
      " 'Parassala, Thiruvananthapuram' 'Connaught Place, Delhi'\n",
      " 'Gottigerre, Bangalore' 'Shivrampally, Hyderabad' 'Vyasarpadi, Chennai'\n",
      " 'Kovaipudur, Coimbatore' 'Vallakkadavoo, Thiruvananthapuram'\n",
      " 'Kattupakkam, Chennai' 'Nellimoodu, Thiruvananthapuram'\n",
      " 'Pondy Bazaar, Chennai' 'Prashant Vihar, Delhi' 'Chullickal, Ernakulam'\n",
      " 'Murugeshpalya, Bangalore' 'Khanpur, Delhi' 'Madiwala, Bangalore'\n",
      " 'Dwarka Sector 23, Delhi' 'Badarpur, Delhi' 'Peyad, Thiruvananthapuram'\n",
      " 'Gandhi Nagar, Chennai' 'Uday Park, Delhi' 'Bandlaguda, Hyderabad'\n",
      " 'Karukappilli, Ernakulam' 'Rana Pratap Bagh, Delhi'\n",
      " 'Kochi M.G.Road, Ernakulam' 'Gopalapuram, Chennai'\n",
      " 'Puthenvelikkara, Ernakulam' 'Sowcarpet, Chennai' 'Chitlapakkam, Chennai'\n",
      " 'Malumichampatti, Coimbatore' 'Rohini Sector 8, Delhi'\n",
      " 'Rohini Sector 2, Delhi' 'Ram Nagar, Hyderabad' 'Dwarka Sector 10, Delhi'\n",
      " 'Agaram, Chennai' 'Poovachal, Thiruvananthapuram' 'Shanti Niketan, Delhi'\n",
      " 'Pothencode, Thiruvananthapuram' 'Dickenson Road, Bangalore'\n",
      " 'RTC X Road, Hyderabad' 'Film Nagar, Hyderabad' 'Lodhi Colony, Delhi'\n",
      " 'SG Palya (Kormangla), Bangalore' 'Palkulangara, Thiruvananthapuram'\n",
      " 'Mahalingapuram, Chennai' 'Matunga West, Mumbai' 'Nettoor, Ernakulam'\n",
      " 'Rani Khera, Delhi' 'Beeramguda, Hyderabad' 'Ramachandrapuram, Hyderabad'\n",
      " 'Neyyattinkara Town, Thiruvananthapuram' 'Gorai, Mumbai'\n",
      " 'Jayanagar 3 Block, Bangalore' 'Shakti Nagar, Delhi'\n",
      " 'Sangam Vihar, Delhi' 'Shakurpur, Delhi' 'Chaitanyapuri, Hyderabad'\n",
      " 'TVM Fort, Thiruvananthapuram' 'JP Nagar 4 Phase, Bangalore'\n",
      " 'Nayandahalli, Bangalore' 'Valiathura, Thiruvananthapuram'\n",
      " 'Kowdiar, Thiruvananthapuram' 'Cunningham Road, Bangalore'\n",
      " 'Hennur, Bangalore' 'Peenya, Bangalore' 'Pattimattam, Ernakulam'\n",
      " 'HAL, Bangalore']\n",
      "HSR Layout, Bangalore           75\n",
      "Andheri West, Mumbai            70\n",
      "Dwarka, Delhi                   67\n",
      "Banjara Hills, Hyderabad        64\n",
      "Mulund West, Mumbai             54\n",
      "                                ..\n",
      "Rohini Sector 15, Delhi          1\n",
      "Radhakrishnan Salai, Chennai     1\n",
      "Domalguda, Hyderabad             1\n",
      "Pachalam, Ernakulam              1\n",
      "Muttada, Thiruvananthapuram      1\n",
      "Name: Place, Length: 877, dtype: int64\n",
      "==========================================================\n",
      "\n",
      "\n",
      "Profile:['Homeopath' 'Ayurveda' 'ENT Specialist' 'Dentist' 'General Medicine'\n",
      " 'Dermatologists']\n",
      "Dentist             1397\n",
      "General Medicine    1173\n",
      "Dermatologists      1034\n",
      "Homeopath            843\n",
      "Ayurveda             786\n",
      "ENT Specialist       728\n",
      "Name: Profile, dtype: int64\n",
      "==========================================================\n",
      "\n",
      "\n",
      "Miscellaneous_Info:['100% 16 Feedback Kakkanad, Ernakulam'\n",
      " '98% 76 Feedback Whitefield, Bangalore' nan ...\n",
      " '98% 45 Feedback Basavanagudi, Bangalore'\n",
      " '97% 11 Feedback Greater Kailash Part 2, Delhi'\n",
      " 'General Medical Consultation Viral Fever Treatment Infectious Disease Treatment']\n",
      "Acrylic Partial Denture Crowns and Bridges Fixing Artificial Teeth                      40\n",
      "Tooth Extraction Dental Fillings Scaling / Polishing                                    12\n",
      "Dental Fillings Zirconia Crowns Dental Implant Fixing                                   12\n",
      "Skin Disease Treatment Kidney Stone Treatment Gall Bladder (Biliary) Stone Treatment     9\n",
      "Skin Allergy Treatment Skin Allergies Dermabrasion                                       9\n",
      "                                                                                        ..\n",
      "Oral Pathology Oral Lesions Screening Oral Cancer Screening                              1\n",
      "1 Feedback Perumbakkam, Chennai ₹100                                                     1\n",
      "Consultation Removable Prosthetics Rehabilitation Removable prosthesis                   1\n",
      "Dental Restoration Dental Implant Fixing Dental Checkup (General)                        1\n",
      "95% 86 Feedback Gachibowli, Hyderabad                                                    1\n",
      "Name: Miscellaneous_Info, Length: 2998, dtype: int64\n",
      "==========================================================\n",
      "\n",
      "\n"
     ]
    }
   ],
   "source": [
    "#Checking for object type:\n",
    "for column in df_train.columns:\n",
    "    if df_train[column].dtype==object:\n",
    "        print(str(column)+ ':' + str(df_train[column].unique()))\n",
    "        print(df_train[column].value_counts())\n",
    "        print('==========================================================')\n",
    "        print('\\n')"
   ]
  },
  {
   "cell_type": "code",
   "execution_count": 468,
   "metadata": {},
   "outputs": [
    {
     "name": "stdout",
     "output_type": "stream",
     "text": [
      "Qualification         object\n",
      "Experience            object\n",
      "Rating                object\n",
      "Place                 object\n",
      "Profile               object\n",
      "Miscellaneous_Info    object\n",
      "Fees                   int64\n",
      "dtype: object\n"
     ]
    }
   ],
   "source": [
    "# checking the datatypes of train dataset.\n",
    "print(df_train.dtypes)"
   ]
  },
  {
   "cell_type": "markdown",
   "metadata": {},
   "source": [
    "# Observations :"
   ]
  },
  {
   "cell_type": "markdown",
   "metadata": {},
   "source": [
    "==> All the values are of Object type except 'Fees' column.Fee column is of int type."
   ]
  },
  {
   "cell_type": "code",
   "execution_count": 469,
   "metadata": {},
   "outputs": [
    {
     "name": "stdout",
     "output_type": "stream",
     "text": [
      "<class 'pandas.core.frame.DataFrame'>\n",
      "RangeIndex: 5961 entries, 0 to 5960\n",
      "Data columns (total 7 columns):\n",
      " #   Column              Non-Null Count  Dtype \n",
      "---  ------              --------------  ----- \n",
      " 0   Qualification       5961 non-null   object\n",
      " 1   Experience          5961 non-null   object\n",
      " 2   Rating              2659 non-null   object\n",
      " 3   Place               5936 non-null   object\n",
      " 4   Profile             5961 non-null   object\n",
      " 5   Miscellaneous_Info  3341 non-null   object\n",
      " 6   Fees                5961 non-null   int64 \n",
      "dtypes: int64(1), object(6)\n",
      "memory usage: 326.1+ KB\n"
     ]
    }
   ],
   "source": [
    "#Checking the information of the dataset\n",
    "df_train.info()"
   ]
  },
  {
   "cell_type": "code",
   "execution_count": 470,
   "metadata": {},
   "outputs": [
    {
     "data": {
      "text/plain": [
       "Qualification            0\n",
       "Experience               0\n",
       "Rating                3302\n",
       "Place                   25\n",
       "Profile                  0\n",
       "Miscellaneous_Info    2620\n",
       "Fees                     0\n",
       "dtype: int64"
      ]
     },
     "execution_count": 470,
     "metadata": {},
     "output_type": "execute_result"
    }
   ],
   "source": [
    "#Checking the null values\n",
    "df_train.isnull().sum()"
   ]
  },
  {
   "cell_type": "markdown",
   "metadata": {},
   "source": [
    "# Observations :"
   ]
  },
  {
   "cell_type": "markdown",
   "metadata": {},
   "source": [
    "==> There are missing values in the Rating,Place and Miscellaneous_Info columns.All the missing columns are of object type.\n",
    "\n",
    "==> So,we impute the missing values with mode."
   ]
  },
  {
   "cell_type": "code",
   "execution_count": 471,
   "metadata": {},
   "outputs": [],
   "source": [
    "for col in ['Rating','Place','Miscellaneous_Info']:\n",
    "    df_train[col].fillna(df_train[col].mode()[0],inplace = True)"
   ]
  },
  {
   "cell_type": "code",
   "execution_count": 472,
   "metadata": {},
   "outputs": [
    {
     "data": {
      "text/plain": [
       "Qualification         0\n",
       "Experience            0\n",
       "Rating                0\n",
       "Place                 0\n",
       "Profile               0\n",
       "Miscellaneous_Info    0\n",
       "Fees                  0\n",
       "dtype: int64"
      ]
     },
     "execution_count": 472,
     "metadata": {},
     "output_type": "execute_result"
    }
   ],
   "source": [
    "#Checking the null values\n",
    "df_train.isnull().sum()"
   ]
  },
  {
   "cell_type": "code",
   "execution_count": 473,
   "metadata": {},
   "outputs": [
    {
     "data": {
      "text/plain": [
       "<matplotlib.axes._subplots.AxesSubplot at 0x2a6785fd310>"
      ]
     },
     "execution_count": 473,
     "metadata": {},
     "output_type": "execute_result"
    },
    {
     "data": {
      "image/png": "[encoded data removed]",
      "text/plain": [
       "<Figure size 432x288 with 2 Axes>"
      ]
     },
     "metadata": {
      "needs_background": "light"
     },
     "output_type": "display_data"
    }
   ],
   "source": [
    "# Visualizing the null values using heatmap\n",
    "sns.heatmap(df_train.isnull(),cmap = 'Blues')"
   ]
  },
  {
   "cell_type": "markdown",
   "metadata": {},
   "source": [
    "# Observations :"
   ]
  },
  {
   "cell_type": "markdown",
   "metadata": {},
   "source": [
    "From the heatmap,it is clear that there are no null values in the dataset."
   ]
  },
  {
   "cell_type": "markdown",
   "metadata": {},
   "source": [
    "# Summary Statistics"
   ]
  },
  {
   "cell_type": "code",
   "execution_count": 474,
   "metadata": {},
   "outputs": [
    {
     "data": {
      "text/html": [
       "<div>\n",
       "<style scoped>\n",
       "    .dataframe tbody tr th:only-of-type {\n",
       "        vertical-align: middle;\n",
       "    }\n",
       "\n",
       "    .dataframe tbody tr th {\n",
       "        vertical-align: top;\n",
       "    }\n",
       "\n",
       "    .dataframe thead th {\n",
       "        text-align: right;\n",
       "    }\n",
       "</style>\n",
       "<table border=\"1\" class=\"dataframe\">\n",
       "  <thead>\n",
       "    <tr style=\"text-align: right;\">\n",
       "      <th></th>\n",
       "      <th>Fees</th>\n",
       "    </tr>\n",
       "  </thead>\n",
       "  <tbody>\n",
       "    <tr>\n",
       "      <th>count</th>\n",
       "      <td>5961.000000</td>\n",
       "    </tr>\n",
       "    <tr>\n",
       "      <th>mean</th>\n",
       "      <td>307.944640</td>\n",
       "    </tr>\n",
       "    <tr>\n",
       "      <th>std</th>\n",
       "      <td>190.920373</td>\n",
       "    </tr>\n",
       "    <tr>\n",
       "      <th>min</th>\n",
       "      <td>5.000000</td>\n",
       "    </tr>\n",
       "    <tr>\n",
       "      <th>25%</th>\n",
       "      <td>150.000000</td>\n",
       "    </tr>\n",
       "    <tr>\n",
       "      <th>50%</th>\n",
       "      <td>300.000000</td>\n",
       "    </tr>\n",
       "    <tr>\n",
       "      <th>75%</th>\n",
       "      <td>500.000000</td>\n",
       "    </tr>\n",
       "    <tr>\n",
       "      <th>max</th>\n",
       "      <td>950.000000</td>\n",
       "    </tr>\n",
       "  </tbody>\n",
       "</table>\n",
       "</div>"
      ],
      "text/plain": [
       "              Fees\n",
       "count  5961.000000\n",
       "mean    307.944640\n",
       "std     190.920373\n",
       "min       5.000000\n",
       "25%     150.000000\n",
       "50%     300.000000\n",
       "75%     500.000000\n",
       "max     950.000000"
      ]
     },
     "execution_count": 474,
     "metadata": {},
     "output_type": "execute_result"
    }
   ],
   "source": [
    "df_train.describe()"
   ]
  },
  {
   "cell_type": "markdown",
   "metadata": {},
   "source": [
    "# Observations :"
   ]
  },
  {
   "cell_type": "markdown",
   "metadata": {},
   "source": [
    "==> Fees ranges between 5 and 950.\n",
    "\n",
    "==> Mean is less than median.So,it is left skewed.\n",
    "\n",
    "==>The difference between 75 % and max value is more.So,outliers may present."
   ]
  },
  {
   "cell_type": "markdown",
   "metadata": {},
   "source": [
    "# Exploratory Data Analysis"
   ]
  },
  {
   "cell_type": "code",
   "execution_count": 475,
   "metadata": {},
   "outputs": [
    {
     "data": {
      "text/html": [
       "<div>\n",
       "<style scoped>\n",
       "    .dataframe tbody tr th:only-of-type {\n",
       "        vertical-align: middle;\n",
       "    }\n",
       "\n",
       "    .dataframe tbody tr th {\n",
       "        vertical-align: top;\n",
       "    }\n",
       "\n",
       "    .dataframe thead th {\n",
       "        text-align: right;\n",
       "    }\n",
       "</style>\n",
       "<table border=\"1\" class=\"dataframe\">\n",
       "  <thead>\n",
       "    <tr style=\"text-align: right;\">\n",
       "      <th></th>\n",
       "      <th>Qualification</th>\n",
       "      <th>Experience</th>\n",
       "      <th>Rating</th>\n",
       "      <th>Place</th>\n",
       "      <th>Profile</th>\n",
       "      <th>Miscellaneous_Info</th>\n",
       "      <th>Fees</th>\n",
       "    </tr>\n",
       "  </thead>\n",
       "  <tbody>\n",
       "    <tr>\n",
       "      <th>0</th>\n",
       "      <td>BHMS, MD - Homeopathy</td>\n",
       "      <td>24 years experience</td>\n",
       "      <td>100%</td>\n",
       "      <td>Kakkanad, Ernakulam</td>\n",
       "      <td>Homeopath</td>\n",
       "      <td>100% 16 Feedback Kakkanad, Ernakulam</td>\n",
       "      <td>100</td>\n",
       "    </tr>\n",
       "    <tr>\n",
       "      <th>1</th>\n",
       "      <td>BAMS, MD - Ayurveda Medicine</td>\n",
       "      <td>12 years experience</td>\n",
       "      <td>98%</td>\n",
       "      <td>Whitefield, Bangalore</td>\n",
       "      <td>Ayurveda</td>\n",
       "      <td>98% 76 Feedback Whitefield, Bangalore</td>\n",
       "      <td>350</td>\n",
       "    </tr>\n",
       "    <tr>\n",
       "      <th>2</th>\n",
       "      <td>MBBS, MS - Otorhinolaryngology</td>\n",
       "      <td>9 years experience</td>\n",
       "      <td>100%</td>\n",
       "      <td>Mathikere - BEL, Bangalore</td>\n",
       "      <td>ENT Specialist</td>\n",
       "      <td>Acrylic Partial Denture Crowns and Bridges Fix...</td>\n",
       "      <td>300</td>\n",
       "    </tr>\n",
       "    <tr>\n",
       "      <th>3</th>\n",
       "      <td>BSc - Zoology, BAMS</td>\n",
       "      <td>12 years experience</td>\n",
       "      <td>100%</td>\n",
       "      <td>Bannerghatta Road, Bangalore</td>\n",
       "      <td>Ayurveda</td>\n",
       "      <td>Bannerghatta Road, Bangalore ₹250 Available on...</td>\n",
       "      <td>250</td>\n",
       "    </tr>\n",
       "    <tr>\n",
       "      <th>4</th>\n",
       "      <td>BAMS</td>\n",
       "      <td>20 years experience</td>\n",
       "      <td>100%</td>\n",
       "      <td>Keelkattalai, Chennai</td>\n",
       "      <td>Ayurveda</td>\n",
       "      <td>100% 4 Feedback Keelkattalai, Chennai</td>\n",
       "      <td>250</td>\n",
       "    </tr>\n",
       "  </tbody>\n",
       "</table>\n",
       "</div>"
      ],
      "text/plain": [
       "                    Qualification           Experience Rating  \\\n",
       "0           BHMS, MD - Homeopathy  24 years experience   100%   \n",
       "1    BAMS, MD - Ayurveda Medicine  12 years experience    98%   \n",
       "2  MBBS, MS - Otorhinolaryngology   9 years experience   100%   \n",
       "3             BSc - Zoology, BAMS  12 years experience   100%   \n",
       "4                            BAMS  20 years experience   100%   \n",
       "\n",
       "                          Place         Profile  \\\n",
       "0           Kakkanad, Ernakulam       Homeopath   \n",
       "1         Whitefield, Bangalore        Ayurveda   \n",
       "2    Mathikere - BEL, Bangalore  ENT Specialist   \n",
       "3  Bannerghatta Road, Bangalore        Ayurveda   \n",
       "4         Keelkattalai, Chennai        Ayurveda   \n",
       "\n",
       "                                  Miscellaneous_Info  Fees  \n",
       "0               100% 16 Feedback Kakkanad, Ernakulam   100  \n",
       "1              98% 76 Feedback Whitefield, Bangalore   350  \n",
       "2  Acrylic Partial Denture Crowns and Bridges Fix...   300  \n",
       "3  Bannerghatta Road, Bangalore ₹250 Available on...   250  \n",
       "4              100% 4 Feedback Keelkattalai, Chennai   250  "
      ]
     },
     "execution_count": 475,
     "metadata": {},
     "output_type": "execute_result"
    }
   ],
   "source": [
    "df_train.head()"
   ]
  },
  {
   "cell_type": "markdown",
   "metadata": {},
   "source": [
    "# Observations :"
   ]
  },
  {
   "cell_type": "markdown",
   "metadata": {},
   "source": [
    "==> Only target variable(Fees) is of int type and other columns are of object type.So,let's convert them to numerical."
   ]
  },
  {
   "cell_type": "code",
   "execution_count": 476,
   "metadata": {},
   "outputs": [],
   "source": [
    "df_train['Rating'] = df_train['Rating'].str[0:-1].astype(float)"
   ]
  },
  {
   "cell_type": "markdown",
   "metadata": {},
   "source": [
    "# Observations :"
   ]
  },
  {
   "cell_type": "markdown",
   "metadata": {},
   "source": [
    "Rating has changed its datatype from object to float."
   ]
  },
  {
   "cell_type": "code",
   "execution_count": 477,
   "metadata": {},
   "outputs": [],
   "source": [
    "df_train['Experience'] = df_train['Experience'].str.slice(stop=2).astype(int)"
   ]
  },
  {
   "cell_type": "markdown",
   "metadata": {},
   "source": [
    "# Observations :"
   ]
  },
  {
   "cell_type": "markdown",
   "metadata": {},
   "source": [
    "Experience datatype has changed from object to int"
   ]
  },
  {
   "cell_type": "markdown",
   "metadata": {},
   "source": [
    "In the train dataset,Place column has two different places.So,we split into City and Area."
   ]
  },
  {
   "cell_type": "code",
   "execution_count": 478,
   "metadata": {},
   "outputs": [
    {
     "data": {
      "text/html": [
       "<div>\n",
       "<style scoped>\n",
       "    .dataframe tbody tr th:only-of-type {\n",
       "        vertical-align: middle;\n",
       "    }\n",
       "\n",
       "    .dataframe tbody tr th {\n",
       "        vertical-align: top;\n",
       "    }\n",
       "\n",
       "    .dataframe thead th {\n",
       "        text-align: right;\n",
       "    }\n",
       "</style>\n",
       "<table border=\"1\" class=\"dataframe\">\n",
       "  <thead>\n",
       "    <tr style=\"text-align: right;\">\n",
       "      <th></th>\n",
       "      <th>Qualification</th>\n",
       "      <th>Experience</th>\n",
       "      <th>Rating</th>\n",
       "      <th>Place</th>\n",
       "      <th>Profile</th>\n",
       "      <th>Miscellaneous_Info</th>\n",
       "      <th>Fees</th>\n",
       "      <th>City</th>\n",
       "      <th>Area</th>\n",
       "    </tr>\n",
       "  </thead>\n",
       "  <tbody>\n",
       "    <tr>\n",
       "      <th>0</th>\n",
       "      <td>BHMS, MD - Homeopathy</td>\n",
       "      <td>24</td>\n",
       "      <td>100.0</td>\n",
       "      <td>Kakkanad, Ernakulam</td>\n",
       "      <td>Homeopath</td>\n",
       "      <td>100% 16 Feedback Kakkanad, Ernakulam</td>\n",
       "      <td>100</td>\n",
       "      <td>Ernakulam</td>\n",
       "      <td>Kakkanad</td>\n",
       "    </tr>\n",
       "    <tr>\n",
       "      <th>1</th>\n",
       "      <td>BAMS, MD - Ayurveda Medicine</td>\n",
       "      <td>12</td>\n",
       "      <td>98.0</td>\n",
       "      <td>Whitefield, Bangalore</td>\n",
       "      <td>Ayurveda</td>\n",
       "      <td>98% 76 Feedback Whitefield, Bangalore</td>\n",
       "      <td>350</td>\n",
       "      <td>Bangalore</td>\n",
       "      <td>Whitefield</td>\n",
       "    </tr>\n",
       "    <tr>\n",
       "      <th>2</th>\n",
       "      <td>MBBS, MS - Otorhinolaryngology</td>\n",
       "      <td>9</td>\n",
       "      <td>100.0</td>\n",
       "      <td>Mathikere - BEL, Bangalore</td>\n",
       "      <td>ENT Specialist</td>\n",
       "      <td>Acrylic Partial Denture Crowns and Bridges Fix...</td>\n",
       "      <td>300</td>\n",
       "      <td>Bangalore</td>\n",
       "      <td>Mathikere - BEL</td>\n",
       "    </tr>\n",
       "    <tr>\n",
       "      <th>3</th>\n",
       "      <td>BSc - Zoology, BAMS</td>\n",
       "      <td>12</td>\n",
       "      <td>100.0</td>\n",
       "      <td>Bannerghatta Road, Bangalore</td>\n",
       "      <td>Ayurveda</td>\n",
       "      <td>Bannerghatta Road, Bangalore ₹250 Available on...</td>\n",
       "      <td>250</td>\n",
       "      <td>Bangalore</td>\n",
       "      <td>Bannerghatta Road</td>\n",
       "    </tr>\n",
       "    <tr>\n",
       "      <th>4</th>\n",
       "      <td>BAMS</td>\n",
       "      <td>20</td>\n",
       "      <td>100.0</td>\n",
       "      <td>Keelkattalai, Chennai</td>\n",
       "      <td>Ayurveda</td>\n",
       "      <td>100% 4 Feedback Keelkattalai, Chennai</td>\n",
       "      <td>250</td>\n",
       "      <td>Chennai</td>\n",
       "      <td>Keelkattalai</td>\n",
       "    </tr>\n",
       "  </tbody>\n",
       "</table>\n",
       "</div>"
      ],
      "text/plain": [
       "                    Qualification  Experience  Rating  \\\n",
       "0           BHMS, MD - Homeopathy          24   100.0   \n",
       "1    BAMS, MD - Ayurveda Medicine          12    98.0   \n",
       "2  MBBS, MS - Otorhinolaryngology           9   100.0   \n",
       "3             BSc - Zoology, BAMS          12   100.0   \n",
       "4                            BAMS          20   100.0   \n",
       "\n",
       "                          Place         Profile  \\\n",
       "0           Kakkanad, Ernakulam       Homeopath   \n",
       "1         Whitefield, Bangalore        Ayurveda   \n",
       "2    Mathikere - BEL, Bangalore  ENT Specialist   \n",
       "3  Bannerghatta Road, Bangalore        Ayurveda   \n",
       "4         Keelkattalai, Chennai        Ayurveda   \n",
       "\n",
       "                                  Miscellaneous_Info  Fees       City  \\\n",
       "0               100% 16 Feedback Kakkanad, Ernakulam   100  Ernakulam   \n",
       "1              98% 76 Feedback Whitefield, Bangalore   350  Bangalore   \n",
       "2  Acrylic Partial Denture Crowns and Bridges Fix...   300  Bangalore   \n",
       "3  Bannerghatta Road, Bangalore ₹250 Available on...   250  Bangalore   \n",
       "4              100% 4 Feedback Keelkattalai, Chennai   250    Chennai   \n",
       "\n",
       "                Area  \n",
       "0           Kakkanad  \n",
       "1         Whitefield  \n",
       "2    Mathikere - BEL  \n",
       "3  Bannerghatta Road  \n",
       "4       Keelkattalai  "
      ]
     },
     "execution_count": 478,
     "metadata": {},
     "output_type": "execute_result"
    }
   ],
   "source": [
    "df_train['City'] = df_train['Place'].str.split(', ').str[-1]\n",
    "df_train['Area'] = df_train['Place'].str.split(', ').str[0]\n",
    "\n",
    "df_train.head()"
   ]
  },
  {
   "cell_type": "code",
   "execution_count": 479,
   "metadata": {},
   "outputs": [
    {
     "data": {
      "text/plain": [
       "Int64Index([3980], dtype='int64')"
      ]
     },
     "execution_count": 479,
     "metadata": {},
     "output_type": "execute_result"
    }
   ],
   "source": [
    "C = df_train[df_train['City'] == 'e'].index\n",
    "C"
   ]
  },
  {
   "cell_type": "code",
   "execution_count": 480,
   "metadata": {},
   "outputs": [],
   "source": [
    "df_train = df_train.drop([3980])"
   ]
  },
  {
   "cell_type": "markdown",
   "metadata": {},
   "source": [
    "Now dropping the Place column since we have seperated it into city and Area.So,there is no data loss."
   ]
  },
  {
   "cell_type": "code",
   "execution_count": 481,
   "metadata": {},
   "outputs": [],
   "source": [
    "df_train.drop(['Place'],axis = 1,inplace = True)"
   ]
  },
  {
   "cell_type": "code",
   "execution_count": 482,
   "metadata": {},
   "outputs": [
    {
     "data": {
      "text/html": [
       "<div>\n",
       "<style scoped>\n",
       "    .dataframe tbody tr th:only-of-type {\n",
       "        vertical-align: middle;\n",
       "    }\n",
       "\n",
       "    .dataframe tbody tr th {\n",
       "        vertical-align: top;\n",
       "    }\n",
       "\n",
       "    .dataframe thead th {\n",
       "        text-align: right;\n",
       "    }\n",
       "</style>\n",
       "<table border=\"1\" class=\"dataframe\">\n",
       "  <thead>\n",
       "    <tr style=\"text-align: right;\">\n",
       "      <th></th>\n",
       "      <th>Qualification</th>\n",
       "      <th>Experience</th>\n",
       "      <th>Rating</th>\n",
       "      <th>Profile</th>\n",
       "      <th>Miscellaneous_Info</th>\n",
       "      <th>Fees</th>\n",
       "      <th>City</th>\n",
       "      <th>Area</th>\n",
       "    </tr>\n",
       "  </thead>\n",
       "  <tbody>\n",
       "    <tr>\n",
       "      <th>0</th>\n",
       "      <td>BHMS, MD - Homeopathy</td>\n",
       "      <td>24</td>\n",
       "      <td>100.0</td>\n",
       "      <td>Homeopath</td>\n",
       "      <td>100% 16 Feedback Kakkanad, Ernakulam</td>\n",
       "      <td>100</td>\n",
       "      <td>Ernakulam</td>\n",
       "      <td>Kakkanad</td>\n",
       "    </tr>\n",
       "    <tr>\n",
       "      <th>1</th>\n",
       "      <td>BAMS, MD - Ayurveda Medicine</td>\n",
       "      <td>12</td>\n",
       "      <td>98.0</td>\n",
       "      <td>Ayurveda</td>\n",
       "      <td>98% 76 Feedback Whitefield, Bangalore</td>\n",
       "      <td>350</td>\n",
       "      <td>Bangalore</td>\n",
       "      <td>Whitefield</td>\n",
       "    </tr>\n",
       "    <tr>\n",
       "      <th>2</th>\n",
       "      <td>MBBS, MS - Otorhinolaryngology</td>\n",
       "      <td>9</td>\n",
       "      <td>100.0</td>\n",
       "      <td>ENT Specialist</td>\n",
       "      <td>Acrylic Partial Denture Crowns and Bridges Fix...</td>\n",
       "      <td>300</td>\n",
       "      <td>Bangalore</td>\n",
       "      <td>Mathikere - BEL</td>\n",
       "    </tr>\n",
       "    <tr>\n",
       "      <th>3</th>\n",
       "      <td>BSc - Zoology, BAMS</td>\n",
       "      <td>12</td>\n",
       "      <td>100.0</td>\n",
       "      <td>Ayurveda</td>\n",
       "      <td>Bannerghatta Road, Bangalore ₹250 Available on...</td>\n",
       "      <td>250</td>\n",
       "      <td>Bangalore</td>\n",
       "      <td>Bannerghatta Road</td>\n",
       "    </tr>\n",
       "    <tr>\n",
       "      <th>4</th>\n",
       "      <td>BAMS</td>\n",
       "      <td>20</td>\n",
       "      <td>100.0</td>\n",
       "      <td>Ayurveda</td>\n",
       "      <td>100% 4 Feedback Keelkattalai, Chennai</td>\n",
       "      <td>250</td>\n",
       "      <td>Chennai</td>\n",
       "      <td>Keelkattalai</td>\n",
       "    </tr>\n",
       "    <tr>\n",
       "      <th>...</th>\n",
       "      <td>...</td>\n",
       "      <td>...</td>\n",
       "      <td>...</td>\n",
       "      <td>...</td>\n",
       "      <td>...</td>\n",
       "      <td>...</td>\n",
       "      <td>...</td>\n",
       "      <td>...</td>\n",
       "    </tr>\n",
       "    <tr>\n",
       "      <th>5956</th>\n",
       "      <td>MBBS, MS - ENT</td>\n",
       "      <td>19</td>\n",
       "      <td>98.0</td>\n",
       "      <td>ENT Specialist</td>\n",
       "      <td>98% 45 Feedback Basavanagudi, Bangalore</td>\n",
       "      <td>300</td>\n",
       "      <td>Bangalore</td>\n",
       "      <td>Basavanagudi</td>\n",
       "    </tr>\n",
       "    <tr>\n",
       "      <th>5957</th>\n",
       "      <td>MBBS</td>\n",
       "      <td>33</td>\n",
       "      <td>100.0</td>\n",
       "      <td>General Medicine</td>\n",
       "      <td>Acrylic Partial Denture Crowns and Bridges Fix...</td>\n",
       "      <td>100</td>\n",
       "      <td>Chennai</td>\n",
       "      <td>Nungambakkam</td>\n",
       "    </tr>\n",
       "    <tr>\n",
       "      <th>5958</th>\n",
       "      <td>MBBS</td>\n",
       "      <td>41</td>\n",
       "      <td>97.0</td>\n",
       "      <td>General Medicine</td>\n",
       "      <td>97% 11 Feedback Greater Kailash Part 2, Delhi</td>\n",
       "      <td>600</td>\n",
       "      <td>Delhi</td>\n",
       "      <td>Greater Kailash Part 2</td>\n",
       "    </tr>\n",
       "    <tr>\n",
       "      <th>5959</th>\n",
       "      <td>MBBS, MD - General Medicine</td>\n",
       "      <td>15</td>\n",
       "      <td>90.0</td>\n",
       "      <td>General Medicine</td>\n",
       "      <td>General Medical Consultation Viral Fever Treat...</td>\n",
       "      <td>100</td>\n",
       "      <td>Mumbai</td>\n",
       "      <td>Vileparle West</td>\n",
       "    </tr>\n",
       "    <tr>\n",
       "      <th>5960</th>\n",
       "      <td>BDS, MDS - Orthodontics</td>\n",
       "      <td>17</td>\n",
       "      <td>100.0</td>\n",
       "      <td>Dentist</td>\n",
       "      <td>Acrylic Partial Denture Crowns and Bridges Fix...</td>\n",
       "      <td>200</td>\n",
       "      <td>Delhi</td>\n",
       "      <td>Pitampura</td>\n",
       "    </tr>\n",
       "  </tbody>\n",
       "</table>\n",
       "<p>5960 rows × 8 columns</p>\n",
       "</div>"
      ],
      "text/plain": [
       "                       Qualification  Experience  Rating           Profile  \\\n",
       "0              BHMS, MD - Homeopathy          24   100.0         Homeopath   \n",
       "1       BAMS, MD - Ayurveda Medicine          12    98.0          Ayurveda   \n",
       "2     MBBS, MS - Otorhinolaryngology           9   100.0    ENT Specialist   \n",
       "3                BSc - Zoology, BAMS          12   100.0          Ayurveda   \n",
       "4                               BAMS          20   100.0          Ayurveda   \n",
       "...                              ...         ...     ...               ...   \n",
       "5956                  MBBS, MS - ENT          19    98.0    ENT Specialist   \n",
       "5957                            MBBS          33   100.0  General Medicine   \n",
       "5958                            MBBS          41    97.0  General Medicine   \n",
       "5959     MBBS, MD - General Medicine          15    90.0  General Medicine   \n",
       "5960         BDS, MDS - Orthodontics          17   100.0           Dentist   \n",
       "\n",
       "                                     Miscellaneous_Info  Fees       City  \\\n",
       "0                  100% 16 Feedback Kakkanad, Ernakulam   100  Ernakulam   \n",
       "1                 98% 76 Feedback Whitefield, Bangalore   350  Bangalore   \n",
       "2     Acrylic Partial Denture Crowns and Bridges Fix...   300  Bangalore   \n",
       "3     Bannerghatta Road, Bangalore ₹250 Available on...   250  Bangalore   \n",
       "4                 100% 4 Feedback Keelkattalai, Chennai   250    Chennai   \n",
       "...                                                 ...   ...        ...   \n",
       "5956            98% 45 Feedback Basavanagudi, Bangalore   300  Bangalore   \n",
       "5957  Acrylic Partial Denture Crowns and Bridges Fix...   100    Chennai   \n",
       "5958      97% 11 Feedback Greater Kailash Part 2, Delhi   600      Delhi   \n",
       "5959  General Medical Consultation Viral Fever Treat...   100     Mumbai   \n",
       "5960  Acrylic Partial Denture Crowns and Bridges Fix...   200      Delhi   \n",
       "\n",
       "                        Area  \n",
       "0                   Kakkanad  \n",
       "1                 Whitefield  \n",
       "2            Mathikere - BEL  \n",
       "3          Bannerghatta Road  \n",
       "4               Keelkattalai  \n",
       "...                      ...  \n",
       "5956            Basavanagudi  \n",
       "5957            Nungambakkam  \n",
       "5958  Greater Kailash Part 2  \n",
       "5959          Vileparle West  \n",
       "5960               Pitampura  \n",
       "\n",
       "[5960 rows x 8 columns]"
      ]
     },
     "execution_count": 482,
     "metadata": {},
     "output_type": "execute_result"
    }
   ],
   "source": [
    "df_train"
   ]
  },
  {
   "cell_type": "code",
   "execution_count": 483,
   "metadata": {},
   "outputs": [
    {
     "data": {
      "text/plain": [
       "Qualification          object\n",
       "Experience              int32\n",
       "Rating                float64\n",
       "Profile                object\n",
       "Miscellaneous_Info     object\n",
       "Fees                    int64\n",
       "City                   object\n",
       "Area                   object\n",
       "dtype: object"
      ]
     },
     "execution_count": 483,
     "metadata": {},
     "output_type": "execute_result"
    }
   ],
   "source": [
    "#Let's check the datatypes again\n",
    "df_train.dtypes"
   ]
  },
  {
   "cell_type": "markdown",
   "metadata": {},
   "source": [
    "# Observations :"
   ]
  },
  {
   "cell_type": "markdown",
   "metadata": {},
   "source": [
    "==> Place,Profile,Miscellaneous_Info and Qualification are numerical values.\n",
    "\n",
    "==> Experience,Rating and fees are of categorical type."
   ]
  },
  {
   "cell_type": "markdown",
   "metadata": {},
   "source": [
    "# Data Visualization"
   ]
  },
  {
   "cell_type": "markdown",
   "metadata": {},
   "source": [
    "# Univariate Analysis"
   ]
  },
  {
   "cell_type": "code",
   "execution_count": 484,
   "metadata": {},
   "outputs": [
    {
     "data": {
      "image/png": "[encoded data removed]",
      "text/plain": [
       "<Figure size 1296x360 with 1 Axes>"
      ]
     },
     "metadata": {
      "needs_background": "light"
     },
     "output_type": "display_data"
    },
    {
     "name": "stdout",
     "output_type": "stream",
     "text": [
      "\n",
      "\n",
      "Experience :\n",
      "9     323\n",
      "10    294\n",
      "11    288\n",
      "8     282\n",
      "12    279\n",
      "     ... \n",
      "64      1\n",
      "65      1\n",
      "58      1\n",
      "66      1\n",
      "61      1\n",
      "Name: Experience, Length: 64, dtype: int64\n"
     ]
    }
   ],
   "source": [
    "# checking the Experience count\n",
    "plt.figure(figsize=[18,5])\n",
    "sns.countplot(x = 'Experience', data = df_train,palette='rainbow')\n",
    "plt.title('Years of Experience',fontsize =18)\n",
    "plt.xlabel('Experience')\n",
    "plt.ylabel('count')\n",
    "plt.xticks(rotation = 90)\n",
    "plt.show()\n",
    "\n",
    "print('\\n')\n",
    "print('Experience :')\n",
    "print(df_train['Experience'].value_counts())"
   ]
  },
  {
   "cell_type": "markdown",
   "metadata": {},
   "source": [
    "# Observations :"
   ]
  },
  {
   "cell_type": "markdown",
   "metadata": {},
   "source": [
    "\n",
    "    ==> People with the experience of 9 years are more in number that is above 300."
   ]
  },
  {
   "cell_type": "code",
   "execution_count": 485,
   "metadata": {},
   "outputs": [
    {
     "data": {
      "image/png": "[encoded data removed]",
      "text/plain": [
       "<Figure size 1296x360 with 1 Axes>"
      ]
     },
     "metadata": {
      "needs_background": "light"
     },
     "output_type": "display_data"
    },
    {
     "name": "stdout",
     "output_type": "stream",
     "text": [
      "\n",
      "\n",
      "Rating :\n",
      "100.0    3985\n",
      "98.0      290\n",
      "99.0      259\n",
      "97.0      241\n",
      "96.0      220\n",
      "95.0      178\n",
      "94.0      115\n",
      "93.0      109\n",
      "92.0       66\n",
      "90.0       66\n",
      "91.0       60\n",
      "89.0       42\n",
      "88.0       41\n",
      "85.0       27\n",
      "82.0       23\n",
      "86.0       21\n",
      "83.0       21\n",
      "80.0       19\n",
      "77.0       16\n",
      "87.0       14\n",
      "79.0       13\n",
      "84.0       13\n",
      "67.0       12\n",
      "81.0       12\n",
      "71.0        9\n",
      "76.0        9\n",
      "75.0        8\n",
      "73.0        8\n",
      "74.0        7\n",
      "60.0        7\n",
      "78.0        6\n",
      "68.0        5\n",
      "56.0        5\n",
      "70.0        4\n",
      "69.0        4\n",
      "57.0        3\n",
      "72.0        3\n",
      "63.0        2\n",
      "64.0        2\n",
      "62.0        2\n",
      "33.0        2\n",
      "55.0        2\n",
      "40.0        1\n",
      "48.0        1\n",
      "7.0         1\n",
      "58.0        1\n",
      "47.0        1\n",
      "45.0        1\n",
      "36.0        1\n",
      "53.0        1\n",
      "65.0        1\n",
      "Name: Rating, dtype: int64\n",
      "[100.  98.  99.  79.  95.  97.  94.  88.  90.  80.  93.  36.  78.  87.\n",
      "  96.  82.  89.  74.  86.  92.  83.  76.  85.  56.  91.  68.  60.  75.\n",
      "  69.  73.  67.  77.  33.  55.  71.  84.  45.  63.  72.  81.  62.  57.\n",
      "   7.  48.  40.  70.  64.  65.  47.  58.  53.]\n"
     ]
    }
   ],
   "source": [
    "# checking the Rating count\n",
    "plt.figure(figsize=[18,5])\n",
    "sns.countplot(x = 'Rating', data = df_train,palette='rainbow')\n",
    "plt.title('Rating',fontsize =18)\n",
    "plt.xlabel('Rating')\n",
    "plt.ylabel('count')\n",
    "plt.xticks(rotation = 90)\n",
    "plt.show()\n",
    "\n",
    "print('\\n')\n",
    "print('Rating :')\n",
    "print(df_train['Rating'].value_counts())\n",
    "print(df_train['Rating'].unique())"
   ]
  },
  {
   "cell_type": "markdown",
   "metadata": {},
   "source": [
    "# Observations :"
   ]
  },
  {
   "cell_type": "markdown",
   "metadata": {},
   "source": [
    "==> Most of the patients have given rating as 100 percent."
   ]
  },
  {
   "cell_type": "code",
   "execution_count": 486,
   "metadata": {},
   "outputs": [
    {
     "data": {
      "image/png": "[encoded data removed]",
      "text/plain": [
       "<Figure size 1296x360 with 1 Axes>"
      ]
     },
     "metadata": {
      "needs_background": "light"
     },
     "output_type": "display_data"
    },
    {
     "name": "stdout",
     "output_type": "stream",
     "text": [
      "\n",
      "\n",
      "City :\n",
      "Bangalore             1283\n",
      "Mumbai                1219\n",
      "Delhi                 1185\n",
      "Hyderabad              951\n",
      "Chennai                855\n",
      "Coimbatore             228\n",
      "Ernakulam              153\n",
      "Thiruvananthapuram      86\n",
      "Name: City, dtype: int64\n",
      "['Ernakulam' 'Bangalore' 'Chennai' 'Delhi' 'Hyderabad' 'Coimbatore'\n",
      " 'Mumbai' 'Thiruvananthapuram']\n"
     ]
    }
   ],
   "source": [
    "# checking the Place count\n",
    "plt.figure(figsize=[18,5])\n",
    "sns.countplot(x = 'City', data = df_train,palette='rocket')\n",
    "plt.title('Doctors in each City',fontsize =18)\n",
    "plt.xlabel('City')\n",
    "plt.ylabel('count')\n",
    "plt.xticks(rotation = 90)\n",
    "plt.show()\n",
    "\n",
    "print('\\n')\n",
    "print('City :')\n",
    "print(df_train['City'].value_counts())\n",
    "print(df_train['City'].unique())"
   ]
  },
  {
   "cell_type": "markdown",
   "metadata": {},
   "source": [
    "# Observations :"
   ]
  },
  {
   "cell_type": "markdown",
   "metadata": {},
   "source": [
    "==> Bangalore has more doctors and Thiruvananthapuram has least doctors."
   ]
  },
  {
   "cell_type": "code",
   "execution_count": 487,
   "metadata": {},
   "outputs": [
    {
     "data": {
      "image/png": "[encoded data removed]",
      "text/plain": [
       "<Figure size 1296x360 with 1 Axes>"
      ]
     },
     "metadata": {
      "needs_background": "light"
     },
     "output_type": "display_data"
    },
    {
     "name": "stdout",
     "output_type": "stream",
     "text": [
      "\n",
      "\n",
      "Profile :\n",
      "Dentist             1396\n",
      "General Medicine    1173\n",
      "Dermatologists      1034\n",
      "Homeopath            843\n",
      "Ayurveda             786\n",
      "ENT Specialist       728\n",
      "Name: Profile, dtype: int64\n",
      "['Homeopath' 'Ayurveda' 'ENT Specialist' 'Dentist' 'General Medicine'\n",
      " 'Dermatologists']\n"
     ]
    }
   ],
   "source": [
    "# checking the Profile count\n",
    "plt.figure(figsize=[18,5])\n",
    "sns.countplot(x = 'Profile', data = df_train,palette='deep')\n",
    "plt.title('Types of Profile',fontsize =18)\n",
    "plt.xlabel('Profile')\n",
    "plt.ylabel('count')\n",
    "plt.xticks(rotation = 90)\n",
    "plt.show()\n",
    "\n",
    "print('\\n')\n",
    "print('Profile :')\n",
    "print(df_train['Profile'].value_counts())\n",
    "print(df_train['Profile'].unique())"
   ]
  },
  {
   "cell_type": "markdown",
   "metadata": {},
   "source": [
    "# Observations :"
   ]
  },
  {
   "cell_type": "markdown",
   "metadata": {},
   "source": [
    "==> Most of the doctors are dentists and least are ENT Specialists."
   ]
  },
  {
   "cell_type": "code",
   "execution_count": 488,
   "metadata": {},
   "outputs": [
    {
     "data": {
      "image/png": "[encoded data removed]",
      "text/plain": [
       "<Figure size 1296x360 with 1 Axes>"
      ]
     },
     "metadata": {
      "needs_background": "light"
     },
     "output_type": "display_data"
    },
    {
     "name": "stdout",
     "output_type": "stream",
     "text": [
      "\n",
      "\n",
      "Fees :\n",
      "100    1306\n",
      "500     938\n",
      "200     904\n",
      "300     864\n",
      "400     424\n",
      "250     306\n",
      "150     253\n",
      "600     215\n",
      "700     153\n",
      "800     143\n",
      "350     143\n",
      "50       81\n",
      "450      65\n",
      "750      34\n",
      "550      22\n",
      "650      21\n",
      "900      18\n",
      "70       18\n",
      "80       12\n",
      "60       11\n",
      "30        4\n",
      "10        2\n",
      "260       2\n",
      "130       2\n",
      "180       2\n",
      "40        2\n",
      "380       2\n",
      "220       1\n",
      "280       1\n",
      "499       1\n",
      "5         1\n",
      "920       1\n",
      "299       1\n",
      "125       1\n",
      "230       1\n",
      "430       1\n",
      "630       1\n",
      "850       1\n",
      "950       1\n",
      "20        1\n",
      "Name: Fees, dtype: int64\n",
      "[100 350 300 250 200 700 500 400 150 650 600  50 800 750 450  80  60 550\n",
      " 900 950 430 130 630 499 260  70  10 299 230 380   5 280  40  30 180 920\n",
      " 125 850  20 220]\n"
     ]
    }
   ],
   "source": [
    "# checking the Fees count\n",
    "plt.figure(figsize=[18,5])\n",
    "sns.countplot(x = 'Fees', data = df_train,palette='rainbow')\n",
    "plt.title('Fees',fontsize =18)\n",
    "plt.xlabel('Fees')\n",
    "plt.ylabel('count')\n",
    "plt.xticks(rotation = 90)\n",
    "plt.show()\n",
    "\n",
    "print('\\n')\n",
    "print('Fees :')\n",
    "print(df_train['Fees'].value_counts())\n",
    "print(df_train['Fees'].unique())"
   ]
  },
  {
   "cell_type": "markdown",
   "metadata": {},
   "source": [
    "# Observations :"
   ]
  },
  {
   "cell_type": "markdown",
   "metadata": {},
   "source": [
    "    ==> Doctors taking consultation fees as 100 are more\n",
    "    \n",
    "    ==> Only one Doctor is taking 5 as consultation fees which is the least."
   ]
  },
  {
   "cell_type": "markdown",
   "metadata": {},
   "source": [
    "# Bivariate Analysis"
   ]
  },
  {
   "cell_type": "code",
   "execution_count": 489,
   "metadata": {},
   "outputs": [
    {
     "data": {
      "image/png": "[encoded data removed]",
      "text/plain": [
       "<Figure size 1296x360 with 1 Axes>"
      ]
     },
     "metadata": {
      "needs_background": "light"
     },
     "output_type": "display_data"
    },
    {
     "name": "stdout",
     "output_type": "stream",
     "text": [
      "Experience  Fees\n",
      "0           100     47\n",
      "            200     13\n",
      "            500      6\n",
      "            400      5\n",
      "            150      3\n",
      "                    ..\n",
      "60          100      1\n",
      "61          100      1\n",
      "64          100      1\n",
      "65          100      1\n",
      "66          100      1\n",
      "Name: Fees, Length: 712, dtype: int64\n",
      "Experience\n",
      "0     12\n",
      "2      9\n",
      "3     13\n",
      "4     14\n",
      "5     13\n",
      "      ..\n",
      "60     1\n",
      "61     1\n",
      "64     1\n",
      "65     1\n",
      "66     1\n",
      "Name: Fees, Length: 64, dtype: int64\n"
     ]
    }
   ],
   "source": [
    "plt.figure(figsize=[18,5])\n",
    "sns.barplot(x=df_train['Experience'],y=df_train['Fees'],palette='rocket',data=df_train)\n",
    "plt.title('Experience vs Fees')\n",
    "plt.xlabel('Experience')\n",
    "plt.ylabel('Fees')\n",
    "plt.xticks(rotation = 90)\n",
    "plt.show()\n",
    "\n",
    "print(df_train.groupby('Experience')['Fees'].value_counts())\n",
    "print(df_train.groupby('Experience')['Fees'].nunique())"
   ]
  },
  {
   "cell_type": "markdown",
   "metadata": {},
   "source": [
    "# Observations :"
   ]
  },
  {
   "cell_type": "markdown",
   "metadata": {},
   "source": [
    "==> Doctors having an experience of 33 years take more consultation fees that is 400\n",
    "\n",
    "==> Doctors having an experience over 57 years take consultation fees as 100 except 59 years."
   ]
  },
  {
   "cell_type": "code",
   "execution_count": 490,
   "metadata": {},
   "outputs": [
    {
     "data": {
      "image/png": "[encoded data removed]",
      "text/plain": [
       "<Figure size 1296x360 with 1 Axes>"
      ]
     },
     "metadata": {
      "needs_background": "light"
     },
     "output_type": "display_data"
    },
    {
     "name": "stdout",
     "output_type": "stream",
     "text": [
      "Rating  Fees\n",
      "7.0     100     1\n",
      "33.0    500     1\n",
      "        650     1\n",
      "36.0    600     1\n",
      "40.0    700     1\n",
      "               ..\n",
      "100.0   430     1\n",
      "        499     1\n",
      "        630     1\n",
      "        850     1\n",
      "        950     1\n",
      "Name: Fees, Length: 371, dtype: int64\n"
     ]
    }
   ],
   "source": [
    "plt.figure(figsize=[18,5])\n",
    "sns.barplot(x=df_train['Rating'],y=df_train['Fees'],palette='deep',data=df_train)\n",
    "plt.title('Rating vs Fees')\n",
    "plt.xlabel('Rating')\n",
    "plt.ylabel('Fees')\n",
    "plt.xticks(rotation = 90)\n",
    "plt.show()\n",
    "\n",
    "print(df_train.groupby('Rating')['Fees'].value_counts())"
   ]
  },
  {
   "cell_type": "markdown",
   "metadata": {},
   "source": [
    "# Observations :"
   ]
  },
  {
   "cell_type": "markdown",
   "metadata": {},
   "source": [
    "==> The doctors with 48% rating takes more consultation fee that is 800.\n",
    "\n",
    "==> The doctors having rating as 7% ,53% and 65% takes consultation fee as 100 and are least."
   ]
  },
  {
   "cell_type": "code",
   "execution_count": 491,
   "metadata": {},
   "outputs": [
    {
     "data": {
      "image/png": "[encoded data removed]",
      "text/plain": [
       "<Figure size 1296x360 with 1 Axes>"
      ]
     },
     "metadata": {
      "needs_background": "light"
     },
     "output_type": "display_data"
    },
    {
     "name": "stdout",
     "output_type": "stream",
     "text": [
      "City                Fees\n",
      "Bangalore           300     229\n",
      "                    500     204\n",
      "                    200     185\n",
      "                    100     171\n",
      "                    400     147\n",
      "                           ... \n",
      "Thiruvananthapuram  350       2\n",
      "                    500       2\n",
      "                    5         1\n",
      "                    80        1\n",
      "                    250       1\n",
      "Name: Fees, Length: 147, dtype: int64\n"
     ]
    }
   ],
   "source": [
    "plt.figure(figsize=[18,5])\n",
    "sns.barplot(x=df_train['City'],y=df_train['Fees'],data=df_train)\n",
    "plt.title('City vs Fees')\n",
    "plt.xlabel('City')\n",
    "plt.ylabel('Fees')\n",
    "plt.xticks(rotation = 90)\n",
    "plt.show()\n",
    "\n",
    "print(df_train.groupby('City')['Fees'].value_counts())"
   ]
  },
  {
   "cell_type": "markdown",
   "metadata": {},
   "source": [
    "# Observations :"
   ]
  },
  {
   "cell_type": "markdown",
   "metadata": {},
   "source": [
    "==> Most of the doctors charging consultation fee more are from Delhi and doctors from Coimbatore consultation charges the least fees."
   ]
  },
  {
   "cell_type": "code",
   "execution_count": 492,
   "metadata": {},
   "outputs": [
    {
     "data": {
      "image/png": "[encoded data removed]",
      "text/plain": [
       "<Figure size 1296x360 with 1 Axes>"
      ]
     },
     "metadata": {
      "needs_background": "light"
     },
     "output_type": "display_data"
    },
    {
     "name": "stdout",
     "output_type": "stream",
     "text": [
      "Profile    Fees\n",
      "Ayurveda   100     203\n",
      "           200     126\n",
      "           300     120\n",
      "           500     111\n",
      "           150      57\n",
      "                  ... \n",
      "Homeopath  40        1\n",
      "           130       1\n",
      "           499       1\n",
      "           550       1\n",
      "           920       1\n",
      "Name: Fees, Length: 133, dtype: int64\n"
     ]
    }
   ],
   "source": [
    "plt.figure(figsize=[18,5])\n",
    "sns.barplot(x=df_train['Profile'],y=df_train['Fees'],palette='rainbow',data=df_train)\n",
    "plt.title('Profile vs Fees')\n",
    "plt.xlabel('Profile')\n",
    "plt.ylabel('Fees')\n",
    "plt.xticks(rotation = 90)\n",
    "plt.show()\n",
    "\n",
    "print(df_train.groupby('Profile')['Fees'].value_counts())"
   ]
  },
  {
   "cell_type": "markdown",
   "metadata": {},
   "source": [
    "# Observations :"
   ]
  },
  {
   "cell_type": "markdown",
   "metadata": {},
   "source": [
    "==> Dermatologists and ENT Specialist charges more consultation fees.\n",
    "\n",
    "==> Dentists charges the least consultation fees."
   ]
  },
  {
   "cell_type": "code",
   "execution_count": 493,
   "metadata": {},
   "outputs": [
    {
     "data": {
      "image/png": "[encoded data removed]",
      "text/plain": [
       "<Figure size 2016x576 with 1 Axes>"
      ]
     },
     "metadata": {
      "needs_background": "light"
     },
     "output_type": "display_data"
    },
    {
     "name": "stdout",
     "output_type": "stream",
     "text": [
      "City                Fees\n",
      "Bangalore           300     229\n",
      "                    500     204\n",
      "                    200     185\n",
      "                    100     171\n",
      "                    400     147\n",
      "                           ... \n",
      "Thiruvananthapuram  350       2\n",
      "                    500       2\n",
      "                    5         1\n",
      "                    80        1\n",
      "                    250       1\n",
      "Name: Fees, Length: 147, dtype: int64\n"
     ]
    }
   ],
   "source": [
    "plt.figure(figsize=[28,8])\n",
    "sns.countplot(x='Fees',hue='City',data=df_train)\n",
    "plt.title('City vs Fees')\n",
    "plt.xlabel('City')\n",
    "plt.xticks(rotation = 90)\n",
    "plt.show()\n",
    "\n",
    "print(df_train.groupby('City')['Fees'].value_counts())"
   ]
  },
  {
   "cell_type": "markdown",
   "metadata": {},
   "source": [
    "# Observations :"
   ]
  },
  {
   "cell_type": "markdown",
   "metadata": {},
   "source": [
    " ==> Mumbai doctors charging consultation fee as 100 are more in number than any other city."
   ]
  },
  {
   "cell_type": "code",
   "execution_count": 494,
   "metadata": {},
   "outputs": [
    {
     "data": {
      "text/html": [
       "<div>\n",
       "<style scoped>\n",
       "    .dataframe tbody tr th:only-of-type {\n",
       "        vertical-align: middle;\n",
       "    }\n",
       "\n",
       "    .dataframe tbody tr th {\n",
       "        vertical-align: top;\n",
       "    }\n",
       "\n",
       "    .dataframe thead th {\n",
       "        text-align: right;\n",
       "    }\n",
       "</style>\n",
       "<table border=\"1\" class=\"dataframe\">\n",
       "  <thead>\n",
       "    <tr style=\"text-align: right;\">\n",
       "      <th></th>\n",
       "      <th>Qualification</th>\n",
       "      <th>Experience</th>\n",
       "      <th>Rating</th>\n",
       "      <th>Profile</th>\n",
       "      <th>Miscellaneous_Info</th>\n",
       "      <th>Fees</th>\n",
       "      <th>City</th>\n",
       "      <th>Area</th>\n",
       "    </tr>\n",
       "  </thead>\n",
       "  <tbody>\n",
       "    <tr>\n",
       "      <th>0</th>\n",
       "      <td>BHMS, MD - Homeopathy</td>\n",
       "      <td>24</td>\n",
       "      <td>100.0</td>\n",
       "      <td>Homeopath</td>\n",
       "      <td>100% 16 Feedback Kakkanad, Ernakulam</td>\n",
       "      <td>100</td>\n",
       "      <td>Ernakulam</td>\n",
       "      <td>Kakkanad</td>\n",
       "    </tr>\n",
       "    <tr>\n",
       "      <th>1</th>\n",
       "      <td>BAMS, MD - Ayurveda Medicine</td>\n",
       "      <td>12</td>\n",
       "      <td>98.0</td>\n",
       "      <td>Ayurveda</td>\n",
       "      <td>98% 76 Feedback Whitefield, Bangalore</td>\n",
       "      <td>350</td>\n",
       "      <td>Bangalore</td>\n",
       "      <td>Whitefield</td>\n",
       "    </tr>\n",
       "    <tr>\n",
       "      <th>2</th>\n",
       "      <td>MBBS, MS - Otorhinolaryngology</td>\n",
       "      <td>9</td>\n",
       "      <td>100.0</td>\n",
       "      <td>ENT Specialist</td>\n",
       "      <td>Acrylic Partial Denture Crowns and Bridges Fix...</td>\n",
       "      <td>300</td>\n",
       "      <td>Bangalore</td>\n",
       "      <td>Mathikere - BEL</td>\n",
       "    </tr>\n",
       "    <tr>\n",
       "      <th>3</th>\n",
       "      <td>BSc - Zoology, BAMS</td>\n",
       "      <td>12</td>\n",
       "      <td>100.0</td>\n",
       "      <td>Ayurveda</td>\n",
       "      <td>Bannerghatta Road, Bangalore ₹250 Available on...</td>\n",
       "      <td>250</td>\n",
       "      <td>Bangalore</td>\n",
       "      <td>Bannerghatta Road</td>\n",
       "    </tr>\n",
       "    <tr>\n",
       "      <th>4</th>\n",
       "      <td>BAMS</td>\n",
       "      <td>20</td>\n",
       "      <td>100.0</td>\n",
       "      <td>Ayurveda</td>\n",
       "      <td>100% 4 Feedback Keelkattalai, Chennai</td>\n",
       "      <td>250</td>\n",
       "      <td>Chennai</td>\n",
       "      <td>Keelkattalai</td>\n",
       "    </tr>\n",
       "    <tr>\n",
       "      <th>...</th>\n",
       "      <td>...</td>\n",
       "      <td>...</td>\n",
       "      <td>...</td>\n",
       "      <td>...</td>\n",
       "      <td>...</td>\n",
       "      <td>...</td>\n",
       "      <td>...</td>\n",
       "      <td>...</td>\n",
       "    </tr>\n",
       "    <tr>\n",
       "      <th>5956</th>\n",
       "      <td>MBBS, MS - ENT</td>\n",
       "      <td>19</td>\n",
       "      <td>98.0</td>\n",
       "      <td>ENT Specialist</td>\n",
       "      <td>98% 45 Feedback Basavanagudi, Bangalore</td>\n",
       "      <td>300</td>\n",
       "      <td>Bangalore</td>\n",
       "      <td>Basavanagudi</td>\n",
       "    </tr>\n",
       "    <tr>\n",
       "      <th>5957</th>\n",
       "      <td>MBBS</td>\n",
       "      <td>33</td>\n",
       "      <td>100.0</td>\n",
       "      <td>General Medicine</td>\n",
       "      <td>Acrylic Partial Denture Crowns and Bridges Fix...</td>\n",
       "      <td>100</td>\n",
       "      <td>Chennai</td>\n",
       "      <td>Nungambakkam</td>\n",
       "    </tr>\n",
       "    <tr>\n",
       "      <th>5958</th>\n",
       "      <td>MBBS</td>\n",
       "      <td>41</td>\n",
       "      <td>97.0</td>\n",
       "      <td>General Medicine</td>\n",
       "      <td>97% 11 Feedback Greater Kailash Part 2, Delhi</td>\n",
       "      <td>600</td>\n",
       "      <td>Delhi</td>\n",
       "      <td>Greater Kailash Part 2</td>\n",
       "    </tr>\n",
       "    <tr>\n",
       "      <th>5959</th>\n",
       "      <td>MBBS, MD - General Medicine</td>\n",
       "      <td>15</td>\n",
       "      <td>90.0</td>\n",
       "      <td>General Medicine</td>\n",
       "      <td>General Medical Consultation Viral Fever Treat...</td>\n",
       "      <td>100</td>\n",
       "      <td>Mumbai</td>\n",
       "      <td>Vileparle West</td>\n",
       "    </tr>\n",
       "    <tr>\n",
       "      <th>5960</th>\n",
       "      <td>BDS, MDS - Orthodontics</td>\n",
       "      <td>17</td>\n",
       "      <td>100.0</td>\n",
       "      <td>Dentist</td>\n",
       "      <td>Acrylic Partial Denture Crowns and Bridges Fix...</td>\n",
       "      <td>200</td>\n",
       "      <td>Delhi</td>\n",
       "      <td>Pitampura</td>\n",
       "    </tr>\n",
       "  </tbody>\n",
       "</table>\n",
       "<p>5960 rows × 8 columns</p>\n",
       "</div>"
      ],
      "text/plain": [
       "                       Qualification  Experience  Rating           Profile  \\\n",
       "0              BHMS, MD - Homeopathy          24   100.0         Homeopath   \n",
       "1       BAMS, MD - Ayurveda Medicine          12    98.0          Ayurveda   \n",
       "2     MBBS, MS - Otorhinolaryngology           9   100.0    ENT Specialist   \n",
       "3                BSc - Zoology, BAMS          12   100.0          Ayurveda   \n",
       "4                               BAMS          20   100.0          Ayurveda   \n",
       "...                              ...         ...     ...               ...   \n",
       "5956                  MBBS, MS - ENT          19    98.0    ENT Specialist   \n",
       "5957                            MBBS          33   100.0  General Medicine   \n",
       "5958                            MBBS          41    97.0  General Medicine   \n",
       "5959     MBBS, MD - General Medicine          15    90.0  General Medicine   \n",
       "5960         BDS, MDS - Orthodontics          17   100.0           Dentist   \n",
       "\n",
       "                                     Miscellaneous_Info  Fees       City  \\\n",
       "0                  100% 16 Feedback Kakkanad, Ernakulam   100  Ernakulam   \n",
       "1                 98% 76 Feedback Whitefield, Bangalore   350  Bangalore   \n",
       "2     Acrylic Partial Denture Crowns and Bridges Fix...   300  Bangalore   \n",
       "3     Bannerghatta Road, Bangalore ₹250 Available on...   250  Bangalore   \n",
       "4                 100% 4 Feedback Keelkattalai, Chennai   250    Chennai   \n",
       "...                                                 ...   ...        ...   \n",
       "5956            98% 45 Feedback Basavanagudi, Bangalore   300  Bangalore   \n",
       "5957  Acrylic Partial Denture Crowns and Bridges Fix...   100    Chennai   \n",
       "5958      97% 11 Feedback Greater Kailash Part 2, Delhi   600      Delhi   \n",
       "5959  General Medical Consultation Viral Fever Treat...   100     Mumbai   \n",
       "5960  Acrylic Partial Denture Crowns and Bridges Fix...   200      Delhi   \n",
       "\n",
       "                        Area  \n",
       "0                   Kakkanad  \n",
       "1                 Whitefield  \n",
       "2            Mathikere - BEL  \n",
       "3          Bannerghatta Road  \n",
       "4               Keelkattalai  \n",
       "...                      ...  \n",
       "5956            Basavanagudi  \n",
       "5957            Nungambakkam  \n",
       "5958  Greater Kailash Part 2  \n",
       "5959          Vileparle West  \n",
       "5960               Pitampura  \n",
       "\n",
       "[5960 rows x 8 columns]"
      ]
     },
     "execution_count": 494,
     "metadata": {},
     "output_type": "execute_result"
    }
   ],
   "source": [
    "df_train"
   ]
  },
  {
   "cell_type": "markdown",
   "metadata": {},
   "source": [
    "# Converting Categorical columns to Numerical columns"
   ]
  },
  {
   "cell_type": "code",
   "execution_count": 495,
   "metadata": {},
   "outputs": [],
   "source": [
    "from sklearn.preprocessing import LabelEncoder\n",
    "label_encoders = {}\n",
    "categorical_columns = ['Qualification','City','Area','Profile','Miscellaneous_Info']\n",
    "\n",
    "for column in categorical_columns:\n",
    "    label_encoders[column] = LabelEncoder()\n",
    "    df_train[column] = label_encoders[column].fit_transform(df_train[column])"
   ]
  },
  {
   "cell_type": "code",
   "execution_count": 496,
   "metadata": {},
   "outputs": [
    {
     "data": {
      "text/html": [
       "<div>\n",
       "<style scoped>\n",
       "    .dataframe tbody tr th:only-of-type {\n",
       "        vertical-align: middle;\n",
       "    }\n",
       "\n",
       "    .dataframe tbody tr th {\n",
       "        vertical-align: top;\n",
       "    }\n",
       "\n",
       "    .dataframe thead th {\n",
       "        text-align: right;\n",
       "    }\n",
       "</style>\n",
       "<table border=\"1\" class=\"dataframe\">\n",
       "  <thead>\n",
       "    <tr style=\"text-align: right;\">\n",
       "      <th></th>\n",
       "      <th>Qualification</th>\n",
       "      <th>Experience</th>\n",
       "      <th>Rating</th>\n",
       "      <th>Profile</th>\n",
       "      <th>Miscellaneous_Info</th>\n",
       "      <th>Fees</th>\n",
       "      <th>City</th>\n",
       "      <th>Area</th>\n",
       "    </tr>\n",
       "  </thead>\n",
       "  <tbody>\n",
       "    <tr>\n",
       "      <th>0</th>\n",
       "      <td>401</td>\n",
       "      <td>24</td>\n",
       "      <td>100.0</td>\n",
       "      <td>5</td>\n",
       "      <td>130</td>\n",
       "      <td>100</td>\n",
       "      <td>4</td>\n",
       "      <td>296</td>\n",
       "    </tr>\n",
       "    <tr>\n",
       "      <th>1</th>\n",
       "      <td>73</td>\n",
       "      <td>12</td>\n",
       "      <td>98.0</td>\n",
       "      <td>0</td>\n",
       "      <td>1422</td>\n",
       "      <td>350</td>\n",
       "      <td>0</td>\n",
       "      <td>855</td>\n",
       "    </tr>\n",
       "    <tr>\n",
       "      <th>2</th>\n",
       "      <td>1135</td>\n",
       "      <td>9</td>\n",
       "      <td>100.0</td>\n",
       "      <td>3</td>\n",
       "      <td>1595</td>\n",
       "      <td>300</td>\n",
       "      <td>0</td>\n",
       "      <td>452</td>\n",
       "    </tr>\n",
       "    <tr>\n",
       "      <th>3</th>\n",
       "      <td>464</td>\n",
       "      <td>12</td>\n",
       "      <td>100.0</td>\n",
       "      <td>0</td>\n",
       "      <td>1695</td>\n",
       "      <td>250</td>\n",
       "      <td>0</td>\n",
       "      <td>68</td>\n",
       "    </tr>\n",
       "    <tr>\n",
       "      <th>4</th>\n",
       "      <td>10</td>\n",
       "      <td>20</td>\n",
       "      <td>100.0</td>\n",
       "      <td>0</td>\n",
       "      <td>253</td>\n",
       "      <td>250</td>\n",
       "      <td>1</td>\n",
       "      <td>335</td>\n",
       "    </tr>\n",
       "    <tr>\n",
       "      <th>...</th>\n",
       "      <td>...</td>\n",
       "      <td>...</td>\n",
       "      <td>...</td>\n",
       "      <td>...</td>\n",
       "      <td>...</td>\n",
       "      <td>...</td>\n",
       "      <td>...</td>\n",
       "      <td>...</td>\n",
       "    </tr>\n",
       "    <tr>\n",
       "      <th>5956</th>\n",
       "      <td>1075</td>\n",
       "      <td>19</td>\n",
       "      <td>98.0</td>\n",
       "      <td>3</td>\n",
       "      <td>1385</td>\n",
       "      <td>300</td>\n",
       "      <td>0</td>\n",
       "      <td>70</td>\n",
       "    </tr>\n",
       "    <tr>\n",
       "      <th>5957</th>\n",
       "      <td>596</td>\n",
       "      <td>33</td>\n",
       "      <td>100.0</td>\n",
       "      <td>4</td>\n",
       "      <td>1595</td>\n",
       "      <td>100</td>\n",
       "      <td>1</td>\n",
       "      <td>535</td>\n",
       "    </tr>\n",
       "    <tr>\n",
       "      <th>5958</th>\n",
       "      <td>596</td>\n",
       "      <td>41</td>\n",
       "      <td>97.0</td>\n",
       "      <td>4</td>\n",
       "      <td>1173</td>\n",
       "      <td>600</td>\n",
       "      <td>3</td>\n",
       "      <td>215</td>\n",
       "    </tr>\n",
       "    <tr>\n",
       "      <th>5959</th>\n",
       "      <td>943</td>\n",
       "      <td>15</td>\n",
       "      <td>90.0</td>\n",
       "      <td>4</td>\n",
       "      <td>2202</td>\n",
       "      <td>100</td>\n",
       "      <td>6</td>\n",
       "      <td>840</td>\n",
       "    </tr>\n",
       "    <tr>\n",
       "      <th>5960</th>\n",
       "      <td>243</td>\n",
       "      <td>17</td>\n",
       "      <td>100.0</td>\n",
       "      <td>1</td>\n",
       "      <td>1595</td>\n",
       "      <td>200</td>\n",
       "      <td>3</td>\n",
       "      <td>597</td>\n",
       "    </tr>\n",
       "  </tbody>\n",
       "</table>\n",
       "<p>5960 rows × 8 columns</p>\n",
       "</div>"
      ],
      "text/plain": [
       "      Qualification  Experience  Rating  Profile  Miscellaneous_Info  Fees  \\\n",
       "0               401          24   100.0        5                 130   100   \n",
       "1                73          12    98.0        0                1422   350   \n",
       "2              1135           9   100.0        3                1595   300   \n",
       "3               464          12   100.0        0                1695   250   \n",
       "4                10          20   100.0        0                 253   250   \n",
       "...             ...         ...     ...      ...                 ...   ...   \n",
       "5956           1075          19    98.0        3                1385   300   \n",
       "5957            596          33   100.0        4                1595   100   \n",
       "5958            596          41    97.0        4                1173   600   \n",
       "5959            943          15    90.0        4                2202   100   \n",
       "5960            243          17   100.0        1                1595   200   \n",
       "\n",
       "      City  Area  \n",
       "0        4   296  \n",
       "1        0   855  \n",
       "2        0   452  \n",
       "3        0    68  \n",
       "4        1   335  \n",
       "...    ...   ...  \n",
       "5956     0    70  \n",
       "5957     1   535  \n",
       "5958     3   215  \n",
       "5959     6   840  \n",
       "5960     3   597  \n",
       "\n",
       "[5960 rows x 8 columns]"
      ]
     },
     "execution_count": 496,
     "metadata": {},
     "output_type": "execute_result"
    }
   ],
   "source": [
    "df_train"
   ]
  },
  {
   "cell_type": "code",
   "execution_count": 497,
   "metadata": {},
   "outputs": [
    {
     "data": {
      "text/plain": [
       "(5960, 8)"
      ]
     },
     "execution_count": 497,
     "metadata": {},
     "output_type": "execute_result"
    }
   ],
   "source": [
    "df_train.shape"
   ]
  },
  {
   "cell_type": "markdown",
   "metadata": {},
   "source": [
    "# Observations :"
   ]
  },
  {
   "cell_type": "markdown",
   "metadata": {},
   "source": [
    "==> Now,all the categorical variables changed to Numerical values."
   ]
  },
  {
   "cell_type": "markdown",
   "metadata": {},
   "source": [
    "# Test Data"
   ]
  },
  {
   "cell_type": "code",
   "execution_count": 498,
   "metadata": {},
   "outputs": [
    {
     "data": {
      "text/html": [
       "<div>\n",
       "<style scoped>\n",
       "    .dataframe tbody tr th:only-of-type {\n",
       "        vertical-align: middle;\n",
       "    }\n",
       "\n",
       "    .dataframe tbody tr th {\n",
       "        vertical-align: top;\n",
       "    }\n",
       "\n",
       "    .dataframe thead th {\n",
       "        text-align: right;\n",
       "    }\n",
       "</style>\n",
       "<table border=\"1\" class=\"dataframe\">\n",
       "  <thead>\n",
       "    <tr style=\"text-align: right;\">\n",
       "      <th></th>\n",
       "      <th>Qualification</th>\n",
       "      <th>Experience</th>\n",
       "      <th>Rating</th>\n",
       "      <th>Place</th>\n",
       "      <th>Profile</th>\n",
       "      <th>Miscellaneous_Info</th>\n",
       "    </tr>\n",
       "  </thead>\n",
       "  <tbody>\n",
       "    <tr>\n",
       "      <th>0</th>\n",
       "      <td>MBBS</td>\n",
       "      <td>35 years experience</td>\n",
       "      <td>NaN</td>\n",
       "      <td>Ghatkopar East, Mumbai</td>\n",
       "      <td>General Medicine</td>\n",
       "      <td>NaN</td>\n",
       "    </tr>\n",
       "    <tr>\n",
       "      <th>1</th>\n",
       "      <td>MBBS, Diploma in Otorhinolaryngology (DLO)</td>\n",
       "      <td>31 years experience</td>\n",
       "      <td>NaN</td>\n",
       "      <td>West Marredpally, Hyderabad</td>\n",
       "      <td>ENT Specialist</td>\n",
       "      <td>NaN</td>\n",
       "    </tr>\n",
       "    <tr>\n",
       "      <th>2</th>\n",
       "      <td>MBBS, DDVL</td>\n",
       "      <td>40 years experience</td>\n",
       "      <td>70%</td>\n",
       "      <td>KK Nagar, Chennai</td>\n",
       "      <td>Dermatologists</td>\n",
       "      <td>70% 4 Feedback KK Nagar, Chennai</td>\n",
       "    </tr>\n",
       "    <tr>\n",
       "      <th>3</th>\n",
       "      <td>BAMS</td>\n",
       "      <td>0 years experience</td>\n",
       "      <td>NaN</td>\n",
       "      <td>New Ashok Nagar, Delhi</td>\n",
       "      <td>Ayurveda</td>\n",
       "      <td>NaN</td>\n",
       "    </tr>\n",
       "    <tr>\n",
       "      <th>4</th>\n",
       "      <td>BDS, MDS - Conservative Dentistry &amp; Endodontics</td>\n",
       "      <td>16 years experience</td>\n",
       "      <td>100%</td>\n",
       "      <td>Kanakpura Road, Bangalore</td>\n",
       "      <td>Dentist</td>\n",
       "      <td>General Dentistry Conservative Dentistry Cosme...</td>\n",
       "    </tr>\n",
       "    <tr>\n",
       "      <th>...</th>\n",
       "      <td>...</td>\n",
       "      <td>...</td>\n",
       "      <td>...</td>\n",
       "      <td>...</td>\n",
       "      <td>...</td>\n",
       "      <td>...</td>\n",
       "    </tr>\n",
       "    <tr>\n",
       "      <th>1982</th>\n",
       "      <td>BAMS, Doctor of Medicine</td>\n",
       "      <td>10 years experience</td>\n",
       "      <td>NaN</td>\n",
       "      <td>Basavanagudi, Bangalore</td>\n",
       "      <td>Ayurveda</td>\n",
       "      <td>NaN</td>\n",
       "    </tr>\n",
       "    <tr>\n",
       "      <th>1983</th>\n",
       "      <td>MD - Dermatology , Venereology &amp; Leprosy, MBBS</td>\n",
       "      <td>4 years experience</td>\n",
       "      <td>NaN</td>\n",
       "      <td>Choolai, Chennai</td>\n",
       "      <td>Dermatologists</td>\n",
       "      <td>NaN</td>\n",
       "    </tr>\n",
       "    <tr>\n",
       "      <th>1984</th>\n",
       "      <td>MBBS, MD / MS - Obstetrics &amp; Gynaecology</td>\n",
       "      <td>9 years experience</td>\n",
       "      <td>NaN</td>\n",
       "      <td>Porur, Chennai</td>\n",
       "      <td>General Medicine</td>\n",
       "      <td>NaN</td>\n",
       "    </tr>\n",
       "    <tr>\n",
       "      <th>1985</th>\n",
       "      <td>BDS</td>\n",
       "      <td>12 years experience</td>\n",
       "      <td>98%</td>\n",
       "      <td>Arekere, Bangalore</td>\n",
       "      <td>Dentist</td>\n",
       "      <td>RCT - Root Canal Treatment Root Canal Treatmen...</td>\n",
       "    </tr>\n",
       "    <tr>\n",
       "      <th>1986</th>\n",
       "      <td>MBBS, MD - Dermatology , Venereology &amp; Leprosy</td>\n",
       "      <td>8 years experience</td>\n",
       "      <td>NaN</td>\n",
       "      <td>Pallikaranai, Chennai</td>\n",
       "      <td>Dermatologists</td>\n",
       "      <td>1 Feedback Pallikaranai, Chennai ₹500</td>\n",
       "    </tr>\n",
       "  </tbody>\n",
       "</table>\n",
       "<p>1987 rows × 6 columns</p>\n",
       "</div>"
      ],
      "text/plain": [
       "                                        Qualification           Experience  \\\n",
       "0                                                MBBS  35 years experience   \n",
       "1          MBBS, Diploma in Otorhinolaryngology (DLO)  31 years experience   \n",
       "2                                          MBBS, DDVL  40 years experience   \n",
       "3                                                BAMS   0 years experience   \n",
       "4     BDS, MDS - Conservative Dentistry & Endodontics  16 years experience   \n",
       "...                                               ...                  ...   \n",
       "1982                         BAMS, Doctor of Medicine  10 years experience   \n",
       "1983   MD - Dermatology , Venereology & Leprosy, MBBS   4 years experience   \n",
       "1984         MBBS, MD / MS - Obstetrics & Gynaecology   9 years experience   \n",
       "1985                                              BDS  12 years experience   \n",
       "1986   MBBS, MD - Dermatology , Venereology & Leprosy   8 years experience   \n",
       "\n",
       "     Rating                        Place           Profile  \\\n",
       "0       NaN       Ghatkopar East, Mumbai  General Medicine   \n",
       "1       NaN  West Marredpally, Hyderabad    ENT Specialist   \n",
       "2       70%            KK Nagar, Chennai    Dermatologists   \n",
       "3       NaN       New Ashok Nagar, Delhi          Ayurveda   \n",
       "4      100%    Kanakpura Road, Bangalore           Dentist   \n",
       "...     ...                          ...               ...   \n",
       "1982    NaN      Basavanagudi, Bangalore          Ayurveda   \n",
       "1983    NaN             Choolai, Chennai    Dermatologists   \n",
       "1984    NaN               Porur, Chennai  General Medicine   \n",
       "1985    98%           Arekere, Bangalore           Dentist   \n",
       "1986    NaN        Pallikaranai, Chennai    Dermatologists   \n",
       "\n",
       "                                     Miscellaneous_Info  \n",
       "0                                                   NaN  \n",
       "1                                                   NaN  \n",
       "2                      70% 4 Feedback KK Nagar, Chennai  \n",
       "3                                                   NaN  \n",
       "4     General Dentistry Conservative Dentistry Cosme...  \n",
       "...                                                 ...  \n",
       "1982                                                NaN  \n",
       "1983                                                NaN  \n",
       "1984                                                NaN  \n",
       "1985  RCT - Root Canal Treatment Root Canal Treatmen...  \n",
       "1986              1 Feedback Pallikaranai, Chennai ₹500  \n",
       "\n",
       "[1987 rows x 6 columns]"
      ]
     },
     "execution_count": 498,
     "metadata": {},
     "output_type": "execute_result"
    }
   ],
   "source": [
    "#Loading the data\n",
    "df_test=pd.read_excel('C:/Users/Admin/Desktop/Saiprakash/DT/Final_Test.xlsx')\n",
    "df_test"
   ]
  },
  {
   "cell_type": "markdown",
   "metadata": {},
   "source": [
    "# Using the same data preprocessing steps on test data and running all of them in a single cell."
   ]
  },
  {
   "cell_type": "code",
   "execution_count": 499,
   "metadata": {},
   "outputs": [
    {
     "name": "stdout",
     "output_type": "stream",
     "text": [
      "Checking the shape of test dataset :\n",
      "====================================\n",
      "(1987, 6)\n",
      "\n",
      "\n",
      "Checking the columns of test dataset:\n",
      "=====================================\n",
      "Index(['Qualification', 'Experience', 'Rating', 'Place', 'Profile',\n",
      "       'Miscellaneous_Info'],\n",
      "      dtype='object')\n",
      "\n",
      "\n",
      "Checking the information of the dataset\n",
      "=======================================\n",
      "<class 'pandas.core.frame.DataFrame'>\n",
      "RangeIndex: 1987 entries, 0 to 1986\n",
      "Data columns (total 6 columns):\n",
      " #   Column              Non-Null Count  Dtype \n",
      "---  ------              --------------  ----- \n",
      " 0   Qualification       1987 non-null   object\n",
      " 1   Experience          1987 non-null   object\n",
      " 2   Rating              897 non-null    object\n",
      " 3   Place               1981 non-null   object\n",
      " 4   Profile             1987 non-null   object\n",
      " 5   Miscellaneous_Info  1153 non-null   object\n",
      "dtypes: object(6)\n",
      "memory usage: 93.3+ KB\n",
      "None\n",
      "\n",
      "\n",
      "Checking the null values:\n",
      "=========================\n",
      "Qualification            0\n",
      "Experience               0\n",
      "Rating                1090\n",
      "Place                    6\n",
      "Profile                  0\n",
      "Miscellaneous_Info     834\n",
      "dtype: int64\n",
      "\n",
      "\n",
      "\n",
      "\n",
      "Checking the null values:\n",
      "=========================\n",
      "Qualification         0\n",
      "Experience            0\n",
      "Rating                0\n",
      "Place                 0\n",
      "Profile               0\n",
      "Miscellaneous_Info    0\n",
      "dtype: int64\n",
      "\n",
      "\n"
     ]
    },
    {
     "data": {
      "text/html": [
       "<div>\n",
       "<style scoped>\n",
       "    .dataframe tbody tr th:only-of-type {\n",
       "        vertical-align: middle;\n",
       "    }\n",
       "\n",
       "    .dataframe tbody tr th {\n",
       "        vertical-align: top;\n",
       "    }\n",
       "\n",
       "    .dataframe thead th {\n",
       "        text-align: right;\n",
       "    }\n",
       "</style>\n",
       "<table border=\"1\" class=\"dataframe\">\n",
       "  <thead>\n",
       "    <tr style=\"text-align: right;\">\n",
       "      <th></th>\n",
       "      <th>Qualification</th>\n",
       "      <th>Experience</th>\n",
       "      <th>Rating</th>\n",
       "      <th>Profile</th>\n",
       "      <th>Miscellaneous_Info</th>\n",
       "      <th>City</th>\n",
       "      <th>Area</th>\n",
       "    </tr>\n",
       "  </thead>\n",
       "  <tbody>\n",
       "    <tr>\n",
       "      <th>0</th>\n",
       "      <td>241</td>\n",
       "      <td>35</td>\n",
       "      <td>100.0</td>\n",
       "      <td>4</td>\n",
       "      <td>598</td>\n",
       "      <td>6</td>\n",
       "      <td>142</td>\n",
       "    </tr>\n",
       "    <tr>\n",
       "      <th>1</th>\n",
       "      <td>340</td>\n",
       "      <td>31</td>\n",
       "      <td>100.0</td>\n",
       "      <td>3</td>\n",
       "      <td>598</td>\n",
       "      <td>5</td>\n",
       "      <td>577</td>\n",
       "    </tr>\n",
       "    <tr>\n",
       "      <th>2</th>\n",
       "      <td>258</td>\n",
       "      <td>40</td>\n",
       "      <td>70.0</td>\n",
       "      <td>2</td>\n",
       "      <td>153</td>\n",
       "      <td>1</td>\n",
       "      <td>212</td>\n",
       "    </tr>\n",
       "    <tr>\n",
       "      <th>3</th>\n",
       "      <td>6</td>\n",
       "      <td>0</td>\n",
       "      <td>100.0</td>\n",
       "      <td>0</td>\n",
       "      <td>598</td>\n",
       "      <td>3</td>\n",
       "      <td>373</td>\n",
       "    </tr>\n",
       "    <tr>\n",
       "      <th>4</th>\n",
       "      <td>79</td>\n",
       "      <td>16</td>\n",
       "      <td>100.0</td>\n",
       "      <td>1</td>\n",
       "      <td>816</td>\n",
       "      <td>0</td>\n",
       "      <td>231</td>\n",
       "    </tr>\n",
       "  </tbody>\n",
       "</table>\n",
       "</div>"
      ],
      "text/plain": [
       "   Qualification  Experience  Rating  Profile  Miscellaneous_Info  City  Area\n",
       "0            241          35   100.0        4                 598     6   142\n",
       "1            340          31   100.0        3                 598     5   577\n",
       "2            258          40    70.0        2                 153     1   212\n",
       "3              6           0   100.0        0                 598     3   373\n",
       "4             79          16   100.0        1                 816     0   231"
      ]
     },
     "execution_count": 499,
     "metadata": {},
     "output_type": "execute_result"
    }
   ],
   "source": [
    "print('Checking the shape of test dataset :')\n",
    "print('====================================')\n",
    "print(df_test.shape)\n",
    "print('\\n')\n",
    "\n",
    "print('Checking the columns of test dataset:')\n",
    "print('=====================================')\n",
    "print(df_test.columns)\n",
    "print('\\n')\n",
    "\n",
    "print('Checking the information of the dataset')\n",
    "print('=======================================')\n",
    "print(df_test.info())\n",
    "print('\\n')\n",
    "\n",
    "print('Checking the null values:')\n",
    "print('=========================')\n",
    "print(df_test.isnull().sum())\n",
    "print('\\n')\n",
    "\n",
    "for col in ['Rating','Place','Miscellaneous_Info']:\n",
    "    df_test[col].fillna(df_test[col].mode()[0],inplace = True)\n",
    "print('\\n')\n",
    "\n",
    "print('Checking the null values:')\n",
    "print('=========================')\n",
    "print(df_test.isnull().sum())\n",
    "print('\\n')\n",
    "\n",
    "df_test['Rating'] = df_test['Rating'].str[0:-1].astype(float)\n",
    "df_test['Experience'] = df_test['Experience'].str.slice(stop=2).astype(int)\n",
    "df_test['City'] = df_test['Place'].str.split(', ').str[-1]\n",
    "df_test['Area'] = df_test['Place'].str.split(', ').str[0]\n",
    "df_test.drop(['Place'],axis = 1,inplace = True)\n",
    "df_test\n",
    "\n",
    "from sklearn.preprocessing import LabelEncoder\n",
    "label_encoders = {}\n",
    "categorical_columns = ['Qualification','City','Area','Profile','Miscellaneous_Info','City','Area']\n",
    "\n",
    "for column in categorical_columns:\n",
    "    label_encoders[column] = LabelEncoder()\n",
    "    df_test[column] = label_encoders[column].fit_transform(df_test[column])\n",
    "    \n",
    "test = df_test\n",
    "test.head()"
   ]
  },
  {
   "cell_type": "code",
   "execution_count": 500,
   "metadata": {},
   "outputs": [
    {
     "data": {
      "text/plain": [
       "(1987, 7)"
      ]
     },
     "execution_count": 500,
     "metadata": {},
     "output_type": "execute_result"
    }
   ],
   "source": [
    "#Checking the shape of the test dataset\n",
    "test.shape"
   ]
  },
  {
   "cell_type": "markdown",
   "metadata": {},
   "source": [
    "# Observations :"
   ]
  },
  {
   "cell_type": "markdown",
   "metadata": {},
   "source": [
    "There are 1987 rows and 7 columns in the test dataset."
   ]
  },
  {
   "cell_type": "markdown",
   "metadata": {},
   "source": [
    "# Summary Statistics"
   ]
  },
  {
   "cell_type": "code",
   "execution_count": 501,
   "metadata": {},
   "outputs": [
    {
     "data": {
      "text/html": [
       "<div>\n",
       "<style scoped>\n",
       "    .dataframe tbody tr th:only-of-type {\n",
       "        vertical-align: middle;\n",
       "    }\n",
       "\n",
       "    .dataframe tbody tr th {\n",
       "        vertical-align: top;\n",
       "    }\n",
       "\n",
       "    .dataframe thead th {\n",
       "        text-align: right;\n",
       "    }\n",
       "</style>\n",
       "<table border=\"1\" class=\"dataframe\">\n",
       "  <thead>\n",
       "    <tr style=\"text-align: right;\">\n",
       "      <th></th>\n",
       "      <th>Qualification</th>\n",
       "      <th>Experience</th>\n",
       "      <th>Rating</th>\n",
       "      <th>Profile</th>\n",
       "      <th>Miscellaneous_Info</th>\n",
       "      <th>Fees</th>\n",
       "      <th>City</th>\n",
       "      <th>Area</th>\n",
       "    </tr>\n",
       "  </thead>\n",
       "  <tbody>\n",
       "    <tr>\n",
       "      <th>count</th>\n",
       "      <td>5960.000000</td>\n",
       "      <td>5960.000000</td>\n",
       "      <td>5960.000000</td>\n",
       "      <td>5960.000000</td>\n",
       "      <td>5960.000000</td>\n",
       "      <td>5960.000000</td>\n",
       "      <td>5960.000000</td>\n",
       "      <td>5960.000000</td>\n",
       "    </tr>\n",
       "    <tr>\n",
       "      <th>mean</th>\n",
       "      <td>596.935235</td>\n",
       "      <td>17.303020</td>\n",
       "      <td>97.610235</td>\n",
       "      <td>2.442114</td>\n",
       "      <td>1573.340268</td>\n",
       "      <td>307.954362</td>\n",
       "      <td>3.045134</td>\n",
       "      <td>410.043960</td>\n",
       "    </tr>\n",
       "    <tr>\n",
       "      <th>std</th>\n",
       "      <td>413.833727</td>\n",
       "      <td>11.143489</td>\n",
       "      <td>5.881951</td>\n",
       "      <td>1.658048</td>\n",
       "      <td>640.441855</td>\n",
       "      <td>190.934916</td>\n",
       "      <td>2.298677</td>\n",
       "      <td>255.128213</td>\n",
       "    </tr>\n",
       "    <tr>\n",
       "      <th>min</th>\n",
       "      <td>0.000000</td>\n",
       "      <td>0.000000</td>\n",
       "      <td>7.000000</td>\n",
       "      <td>0.000000</td>\n",
       "      <td>0.000000</td>\n",
       "      <td>5.000000</td>\n",
       "      <td>0.000000</td>\n",
       "      <td>0.000000</td>\n",
       "    </tr>\n",
       "    <tr>\n",
       "      <th>25%</th>\n",
       "      <td>219.000000</td>\n",
       "      <td>9.000000</td>\n",
       "      <td>98.000000</td>\n",
       "      <td>1.000000</td>\n",
       "      <td>1476.750000</td>\n",
       "      <td>150.000000</td>\n",
       "      <td>1.000000</td>\n",
       "      <td>194.750000</td>\n",
       "    </tr>\n",
       "    <tr>\n",
       "      <th>50%</th>\n",
       "      <td>596.000000</td>\n",
       "      <td>14.000000</td>\n",
       "      <td>100.000000</td>\n",
       "      <td>2.000000</td>\n",
       "      <td>1595.000000</td>\n",
       "      <td>300.000000</td>\n",
       "      <td>3.000000</td>\n",
       "      <td>404.000000</td>\n",
       "    </tr>\n",
       "    <tr>\n",
       "      <th>75%</th>\n",
       "      <td>943.000000</td>\n",
       "      <td>23.000000</td>\n",
       "      <td>100.000000</td>\n",
       "      <td>4.000000</td>\n",
       "      <td>1746.250000</td>\n",
       "      <td>500.000000</td>\n",
       "      <td>5.000000</td>\n",
       "      <td>621.250000</td>\n",
       "    </tr>\n",
       "    <tr>\n",
       "      <th>max</th>\n",
       "      <td>1419.000000</td>\n",
       "      <td>66.000000</td>\n",
       "      <td>100.000000</td>\n",
       "      <td>5.000000</td>\n",
       "      <td>2997.000000</td>\n",
       "      <td>950.000000</td>\n",
       "      <td>7.000000</td>\n",
       "      <td>864.000000</td>\n",
       "    </tr>\n",
       "  </tbody>\n",
       "</table>\n",
       "</div>"
      ],
      "text/plain": [
       "       Qualification   Experience       Rating      Profile  \\\n",
       "count    5960.000000  5960.000000  5960.000000  5960.000000   \n",
       "mean      596.935235    17.303020    97.610235     2.442114   \n",
       "std       413.833727    11.143489     5.881951     1.658048   \n",
       "min         0.000000     0.000000     7.000000     0.000000   \n",
       "25%       219.000000     9.000000    98.000000     1.000000   \n",
       "50%       596.000000    14.000000   100.000000     2.000000   \n",
       "75%       943.000000    23.000000   100.000000     4.000000   \n",
       "max      1419.000000    66.000000   100.000000     5.000000   \n",
       "\n",
       "       Miscellaneous_Info         Fees         City         Area  \n",
       "count         5960.000000  5960.000000  5960.000000  5960.000000  \n",
       "mean          1573.340268   307.954362     3.045134   410.043960  \n",
       "std            640.441855   190.934916     2.298677   255.128213  \n",
       "min              0.000000     5.000000     0.000000     0.000000  \n",
       "25%           1476.750000   150.000000     1.000000   194.750000  \n",
       "50%           1595.000000   300.000000     3.000000   404.000000  \n",
       "75%           1746.250000   500.000000     5.000000   621.250000  \n",
       "max           2997.000000   950.000000     7.000000   864.000000  "
      ]
     },
     "execution_count": 501,
     "metadata": {},
     "output_type": "execute_result"
    }
   ],
   "source": [
    "df_train.describe()"
   ]
  },
  {
   "cell_type": "markdown",
   "metadata": {},
   "source": [
    "# Observations :"
   ]
  },
  {
   "cell_type": "markdown",
   "metadata": {},
   "source": [
    "==> Experience has 0 as minimum value.\n",
    "\n",
    "==> The fees ranges between 5 and 950.\n",
    "\n",
    "==> The experience is from 0 to 66 years."
   ]
  },
  {
   "cell_type": "markdown",
   "metadata": {},
   "source": [
    "# To check the Correlation"
   ]
  },
  {
   "cell_type": "code",
   "execution_count": 502,
   "metadata": {},
   "outputs": [
    {
     "data": {
      "text/html": [
       "<div>\n",
       "<style scoped>\n",
       "    .dataframe tbody tr th:only-of-type {\n",
       "        vertical-align: middle;\n",
       "    }\n",
       "\n",
       "    .dataframe tbody tr th {\n",
       "        vertical-align: top;\n",
       "    }\n",
       "\n",
       "    .dataframe thead th {\n",
       "        text-align: right;\n",
       "    }\n",
       "</style>\n",
       "<table border=\"1\" class=\"dataframe\">\n",
       "  <thead>\n",
       "    <tr style=\"text-align: right;\">\n",
       "      <th></th>\n",
       "      <th>Qualification</th>\n",
       "      <th>Experience</th>\n",
       "      <th>Rating</th>\n",
       "      <th>Profile</th>\n",
       "      <th>Miscellaneous_Info</th>\n",
       "      <th>Fees</th>\n",
       "      <th>City</th>\n",
       "      <th>Area</th>\n",
       "    </tr>\n",
       "  </thead>\n",
       "  <tbody>\n",
       "    <tr>\n",
       "      <th>Qualification</th>\n",
       "      <td>1.000000</td>\n",
       "      <td>0.134810</td>\n",
       "      <td>-0.163635</td>\n",
       "      <td>0.393026</td>\n",
       "      <td>-0.132793</td>\n",
       "      <td>0.263187</td>\n",
       "      <td>-0.027994</td>\n",
       "      <td>0.006949</td>\n",
       "    </tr>\n",
       "    <tr>\n",
       "      <th>Experience</th>\n",
       "      <td>0.134810</td>\n",
       "      <td>1.000000</td>\n",
       "      <td>-0.149635</td>\n",
       "      <td>0.202165</td>\n",
       "      <td>-0.132567</td>\n",
       "      <td>0.002143</td>\n",
       "      <td>0.039062</td>\n",
       "      <td>0.015821</td>\n",
       "    </tr>\n",
       "    <tr>\n",
       "      <th>Rating</th>\n",
       "      <td>-0.163635</td>\n",
       "      <td>-0.149635</td>\n",
       "      <td>1.000000</td>\n",
       "      <td>-0.046958</td>\n",
       "      <td>0.286560</td>\n",
       "      <td>-0.154696</td>\n",
       "      <td>0.064414</td>\n",
       "      <td>0.031319</td>\n",
       "    </tr>\n",
       "    <tr>\n",
       "      <th>Profile</th>\n",
       "      <td>0.393026</td>\n",
       "      <td>0.202165</td>\n",
       "      <td>-0.046958</td>\n",
       "      <td>1.000000</td>\n",
       "      <td>-0.155329</td>\n",
       "      <td>0.145192</td>\n",
       "      <td>-0.010916</td>\n",
       "      <td>0.019800</td>\n",
       "    </tr>\n",
       "    <tr>\n",
       "      <th>Miscellaneous_Info</th>\n",
       "      <td>-0.132793</td>\n",
       "      <td>-0.132567</td>\n",
       "      <td>0.286560</td>\n",
       "      <td>-0.155329</td>\n",
       "      <td>1.000000</td>\n",
       "      <td>-0.060712</td>\n",
       "      <td>0.052515</td>\n",
       "      <td>0.027962</td>\n",
       "    </tr>\n",
       "    <tr>\n",
       "      <th>Fees</th>\n",
       "      <td>0.263187</td>\n",
       "      <td>0.002143</td>\n",
       "      <td>-0.154696</td>\n",
       "      <td>0.145192</td>\n",
       "      <td>-0.060712</td>\n",
       "      <td>1.000000</td>\n",
       "      <td>-0.020266</td>\n",
       "      <td>-0.052673</td>\n",
       "    </tr>\n",
       "    <tr>\n",
       "      <th>City</th>\n",
       "      <td>-0.027994</td>\n",
       "      <td>0.039062</td>\n",
       "      <td>0.064414</td>\n",
       "      <td>-0.010916</td>\n",
       "      <td>0.052515</td>\n",
       "      <td>-0.020266</td>\n",
       "      <td>1.000000</td>\n",
       "      <td>-0.086345</td>\n",
       "    </tr>\n",
       "    <tr>\n",
       "      <th>Area</th>\n",
       "      <td>0.006949</td>\n",
       "      <td>0.015821</td>\n",
       "      <td>0.031319</td>\n",
       "      <td>0.019800</td>\n",
       "      <td>0.027962</td>\n",
       "      <td>-0.052673</td>\n",
       "      <td>-0.086345</td>\n",
       "      <td>1.000000</td>\n",
       "    </tr>\n",
       "  </tbody>\n",
       "</table>\n",
       "</div>"
      ],
      "text/plain": [
       "                    Qualification  Experience    Rating   Profile  \\\n",
       "Qualification            1.000000    0.134810 -0.163635  0.393026   \n",
       "Experience               0.134810    1.000000 -0.149635  0.202165   \n",
       "Rating                  -0.163635   -0.149635  1.000000 -0.046958   \n",
       "Profile                  0.393026    0.202165 -0.046958  1.000000   \n",
       "Miscellaneous_Info      -0.132793   -0.132567  0.286560 -0.155329   \n",
       "Fees                     0.263187    0.002143 -0.154696  0.145192   \n",
       "City                    -0.027994    0.039062  0.064414 -0.010916   \n",
       "Area                     0.006949    0.015821  0.031319  0.019800   \n",
       "\n",
       "                    Miscellaneous_Info      Fees      City      Area  \n",
       "Qualification                -0.132793  0.263187 -0.027994  0.006949  \n",
       "Experience                   -0.132567  0.002143  0.039062  0.015821  \n",
       "Rating                        0.286560 -0.154696  0.064414  0.031319  \n",
       "Profile                      -0.155329  0.145192 -0.010916  0.019800  \n",
       "Miscellaneous_Info            1.000000 -0.060712  0.052515  0.027962  \n",
       "Fees                         -0.060712  1.000000 -0.020266 -0.052673  \n",
       "City                          0.052515 -0.020266  1.000000 -0.086345  \n",
       "Area                          0.027962 -0.052673 -0.086345  1.000000  "
      ]
     },
     "execution_count": 502,
     "metadata": {},
     "output_type": "execute_result"
    }
   ],
   "source": [
    "df_train.corr()"
   ]
  },
  {
   "cell_type": "code",
   "execution_count": 503,
   "metadata": {},
   "outputs": [
    {
     "data": {
      "image/png": "[encoded data removed]",
      "text/plain": [
       "<Figure size 864x576 with 2 Axes>"
      ]
     },
     "metadata": {
      "needs_background": "light"
     },
     "output_type": "display_data"
    }
   ],
   "source": [
    "#visualizing correlation using heatmap\n",
    "plt.figure(figsize=(12,8))\n",
    "sns.heatmap(df_train.corr(),annot = True,cmap='coolwarm');"
   ]
  },
  {
   "cell_type": "markdown",
   "metadata": {},
   "source": [
    "# Observations :"
   ]
  },
  {
   "cell_type": "markdown",
   "metadata": {},
   "source": [
    "==> Fees is positively correlated with Experience.\n",
    "\n",
    "==> Rating is negatively correlated with Experience."
   ]
  },
  {
   "cell_type": "markdown",
   "metadata": {},
   "source": [
    "# Checking for Skewness"
   ]
  },
  {
   "cell_type": "code",
   "execution_count": 504,
   "metadata": {},
   "outputs": [
    {
     "data": {
      "text/plain": [
       "Qualification         0.239447\n",
       "Experience            0.991306\n",
       "Rating               -4.701254\n",
       "Profile               0.108488\n",
       "Miscellaneous_Info   -0.218424\n",
       "Fees                  0.751676\n",
       "City                  0.002834\n",
       "Area                  0.121219\n",
       "dtype: float64"
      ]
     },
     "execution_count": 504,
     "metadata": {},
     "output_type": "execute_result"
    }
   ],
   "source": [
    "df_train.skew()"
   ]
  },
  {
   "cell_type": "code",
   "execution_count": 505,
   "metadata": {},
   "outputs": [],
   "source": [
    "for col in df_train.skew().index:\n",
    "    if col in df_train.describe().columns:\n",
    "        if df_train[col].skew()>-2:\n",
    "            df_train[col]=np.sqrt(df_train[col])"
   ]
  },
  {
   "cell_type": "code",
   "execution_count": 506,
   "metadata": {},
   "outputs": [
    {
     "data": {
      "text/plain": [
       "Qualification        -0.389052\n",
       "Experience            0.082861\n",
       "Rating               -4.701254\n",
       "Profile              -0.750025\n",
       "Miscellaneous_Info   -1.234139\n",
       "Fees                  0.245076\n",
       "City                 -0.600416\n",
       "Area                 -0.438955\n",
       "dtype: float64"
      ]
     },
     "execution_count": 506,
     "metadata": {},
     "output_type": "execute_result"
    }
   ],
   "source": [
    "df_train.skew()"
   ]
  },
  {
   "cell_type": "markdown",
   "metadata": {},
   "source": [
    "# Checking for Outliers"
   ]
  },
  {
   "cell_type": "code",
   "execution_count": 507,
   "metadata": {},
   "outputs": [
    {
     "data": {
      "image/png": "[encoded data removed]",
      "text/plain": [
       "<Figure size 864x864 with 18 Axes>"
      ]
     },
     "metadata": {
      "needs_background": "light"
     },
     "output_type": "display_data"
    }
   ],
   "source": [
    "df_train.plot(kind='box', subplots=True, layout=(6,3), figsize=(12,12))\n",
    "plt.show()"
   ]
  },
  {
   "cell_type": "markdown",
   "metadata": {},
   "source": [
    "# Observations :"
   ]
  },
  {
   "cell_type": "markdown",
   "metadata": {},
   "source": [
    "==> From the above boxplots,outliers are present."
   ]
  },
  {
   "cell_type": "code",
   "execution_count": 508,
   "metadata": {},
   "outputs": [
    {
     "data": {
      "text/plain": [
       "array([[0.23729402, 0.71271649, 0.40632194, ..., 1.23118134, 0.56154636,\n",
       "        0.23893523],\n",
       "       [1.40350511, 0.34530346, 0.06627016, ..., 0.37215836, 1.63732942,\n",
       "        1.43220987],\n",
       "       [1.15074196, 0.68751291, 0.40632194, ..., 0.11664532, 1.63732942,\n",
       "        0.32418502],\n",
       "       ...,\n",
       "       [0.20844162, 1.82181099, 0.10375573, ..., 1.43756909, 0.26695286,\n",
       "        0.59185685],\n",
       "       [0.84789265, 0.04381088, 1.29393695, ..., 1.23118134, 1.05573241,\n",
       "        1.39643835],\n",
       "       [0.68794604, 0.14061901, 0.40632194, ..., 0.46854564, 0.26695286,\n",
       "        0.76479228]])"
      ]
     },
     "execution_count": 508,
     "metadata": {},
     "output_type": "execute_result"
    }
   ],
   "source": [
    "from scipy.stats import zscore\n",
    "z = np.abs(zscore(df_train))\n",
    "z"
   ]
  },
  {
   "cell_type": "code",
   "execution_count": 509,
   "metadata": {},
   "outputs": [
    {
     "name": "stdout",
     "output_type": "stream",
     "text": [
      "(array([  18,   55,   60,   67,  140,  143,  175,  178,  209,  243,  309,\n",
      "        333,  372,  377,  417,  426,  431,  458,  465,  585,  590,  591,\n",
      "        594,  632,  679,  680,  692,  731,  782,  787,  788,  810,  815,\n",
      "        851,  855,  882,  911,  914,  918,  968,  969,  979,  990,  992,\n",
      "        998, 1012, 1016, 1018, 1049, 1058, 1067, 1077, 1086, 1170, 1188,\n",
      "       1212, 1233, 1240, 1303, 1392, 1404, 1425, 1433, 1437, 1438, 1444,\n",
      "       1466, 1475, 1542, 1592, 1594, 1614, 1635, 1643, 1648, 1672, 1717,\n",
      "       1741, 1743, 1747, 1763, 1778, 1790, 1796, 1852, 1877, 1937, 2006,\n",
      "       2007, 2036, 2089, 2105, 2133, 2161, 2225, 2277, 2309, 2313, 2323,\n",
      "       2330, 2391, 2443, 2478, 2500, 2547, 2548, 2585, 2614, 2646, 2670,\n",
      "       2715, 2726, 2731, 2738, 2749, 2758, 2768, 2776, 2803, 2829, 2833,\n",
      "       2949, 2962, 2991, 3013, 3093, 3120, 3126, 3144, 3195, 3222, 3254,\n",
      "       3270, 3288, 3295, 3319, 3333, 3345, 3367, 3399, 3405, 3463, 3526,\n",
      "       3532, 3537, 3555, 3593, 3604, 3615, 3627, 3661, 3676, 3690, 3766,\n",
      "       3783, 3794, 3797, 3820, 3861, 3893, 3895, 3938, 3965, 3979, 3984,\n",
      "       4000, 4051, 4054, 4057, 4134, 4161, 4173, 4211, 4218, 4314, 4403,\n",
      "       4409, 4458, 4473, 4477, 4508, 4575, 4604, 4607, 4608, 4611, 4807,\n",
      "       4824, 4842, 4845, 4850, 4879, 4970, 5014, 5027, 5035, 5037, 5085,\n",
      "       5126, 5152, 5188, 5243, 5248, 5261, 5263, 5287, 5297, 5315, 5324,\n",
      "       5325, 5350, 5421, 5422, 5460, 5463, 5479, 5501, 5522, 5530, 5566,\n",
      "       5579, 5589, 5611, 5614, 5635, 5636, 5646, 5662, 5669, 5670, 5675,\n",
      "       5839, 5851, 5859, 5861, 5891, 5928], dtype=int64), array([2, 2, 4, 2, 2, 4, 4, 2, 2, 4, 2, 2, 1, 2, 4, 4, 4, 2, 2, 2, 2, 4,\n",
      "       4, 2, 4, 4, 2, 2, 4, 2, 2, 2, 2, 2, 4, 4, 2, 4, 2, 2, 4, 2, 2, 4,\n",
      "       2, 4, 2, 2, 4, 4, 4, 4, 4, 2, 4, 4, 4, 2, 2, 2, 4, 2, 2, 2, 4, 2,\n",
      "       4, 2, 4, 2, 2, 2, 2, 4, 2, 4, 2, 2, 2, 2, 4, 2, 4, 2, 2, 2, 2, 4,\n",
      "       4, 4, 2, 4, 4, 2, 4, 2, 2, 4, 2, 4, 2, 4, 2, 2, 4, 2, 2, 4, 2, 2,\n",
      "       2, 2, 4, 2, 4, 2, 4, 4, 4, 2, 2, 4, 2, 2, 4, 2, 2, 2, 2, 4, 2, 2,\n",
      "       2, 4, 2, 4, 2, 4, 2, 4, 4, 2, 2, 4, 2, 4, 2, 2, 2, 2, 2, 2, 2, 2,\n",
      "       2, 4, 4, 2, 2, 4, 4, 4, 4, 4, 4, 4, 2, 2, 2, 2, 4, 2, 2, 2, 4, 4,\n",
      "       4, 2, 2, 2, 2, 4, 4, 2, 2, 2, 2, 2, 2, 4, 2, 2, 2, 4, 2, 4, 4, 4,\n",
      "       2, 4, 4, 2, 2, 2, 4, 4, 2, 2, 4, 4, 2, 2, 4, 2, 4, 4, 2, 2, 2, 4,\n",
      "       4, 4, 2, 2, 2, 1, 2, 2, 4, 4, 4, 2, 4, 4, 2, 2, 2], dtype=int64))\n"
     ]
    }
   ],
   "source": [
    "threshold = 3\n",
    "print(np.where(z>3))"
   ]
  },
  {
   "cell_type": "code",
   "execution_count": 510,
   "metadata": {},
   "outputs": [],
   "source": [
    "df_new=df_train[(z<3).all(axis=1)]"
   ]
  },
  {
   "cell_type": "code",
   "execution_count": 511,
   "metadata": {},
   "outputs": [
    {
     "name": "stdout",
     "output_type": "stream",
     "text": [
      "(5960, 8) \t (5723, 8)\n"
     ]
    }
   ],
   "source": [
    "print(df_train.shape,'\\t',df_new.shape)"
   ]
  },
  {
   "cell_type": "markdown",
   "metadata": {},
   "source": [
    "# Observations :"
   ]
  },
  {
   "cell_type": "markdown",
   "metadata": {},
   "source": [
    "  ==> Now,5960 rows are reduced to 5723 rows.So,outliers are removed."
   ]
  },
  {
   "cell_type": "code",
   "execution_count": 512,
   "metadata": {},
   "outputs": [
    {
     "name": "stdout",
     "output_type": "stream",
     "text": [
      "(5723, 8)\n"
     ]
    }
   ],
   "source": [
    "df_train = df_new\n",
    "print(df_train.shape)"
   ]
  },
  {
   "cell_type": "markdown",
   "metadata": {},
   "source": [
    "# Model Training"
   ]
  },
  {
   "cell_type": "code",
   "execution_count": 513,
   "metadata": {},
   "outputs": [],
   "source": [
    "#Seperating into input and output variables\n",
    "x = df_train.drop(['Fees'], axis=1)\n",
    "y = df_train['Fees']"
   ]
  },
  {
   "cell_type": "code",
   "execution_count": 514,
   "metadata": {},
   "outputs": [
    {
     "name": "stdout",
     "output_type": "stream",
     "text": [
      "(5723, 7) \t (5723,)\n"
     ]
    }
   ],
   "source": [
    "print(x.shape,'\\t',y.shape)"
   ]
  },
  {
   "cell_type": "code",
   "execution_count": 515,
   "metadata": {},
   "outputs": [],
   "source": [
    "from sklearn.preprocessing import StandardScaler\n",
    "sc = StandardScaler()\n",
    "x = sc.fit_transform(x)"
   ]
  },
  {
   "cell_type": "code",
   "execution_count": 516,
   "metadata": {},
   "outputs": [],
   "source": [
    "#Breaking our input and target variable into train and test data\n",
    "from sklearn.model_selection import train_test_split\n",
    "x_train,x_test,y_train,y_test=train_test_split(x,y,test_size=0.2,random_state=42)"
   ]
  },
  {
   "cell_type": "code",
   "execution_count": 517,
   "metadata": {},
   "outputs": [
    {
     "name": "stdout",
     "output_type": "stream",
     "text": [
      "(4578, 7) \t (1145, 7)\n",
      "(4578,) \t (1145,)\n"
     ]
    }
   ],
   "source": [
    "print(x_train.shape,'\\t',x_test.shape)\n",
    "\n",
    "print(y_train.shape,'\\t',y_test.shape)"
   ]
  },
  {
   "cell_type": "code",
   "execution_count": 518,
   "metadata": {},
   "outputs": [],
   "source": [
    "#Importing Models library\n",
    "from sklearn.linear_model import LinearRegression,Lasso,Ridge,ElasticNet\n",
    "from sklearn.svm import SVR\n",
    "from sklearn.neighbors import KNeighborsRegressor\n",
    "from sklearn.tree import DecisionTreeRegressor\n",
    "\n",
    "#Importing Boosting models\n",
    "from sklearn.ensemble import RandomForestRegressor\n",
    "from sklearn.ensemble import AdaBoostRegressor\n",
    "from sklearn.ensemble import GradientBoostingRegressor\n",
    "\n",
    "#Importing Error Metrics\n",
    "from sklearn.metrics import mean_absolute_error,mean_squared_error,r2_score\n",
    "from sklearn.model_selection import GridSearchCV,cross_val_score"
   ]
  },
  {
   "cell_type": "code",
   "execution_count": 519,
   "metadata": {},
   "outputs": [
    {
     "name": "stdout",
     "output_type": "stream",
     "text": [
      "score of LinearRegression() is: 0.09465666943748186\n",
      "Error:\n",
      "Mean absolute error: 4.353578819781971\n",
      "Mean squared error: 27.448646920541005\n",
      "Root Mean Squared Error: 5.239145628873185\n",
      "r2_score: 0.08218952617827635\n",
      "==============================================================================================\n",
      "\n",
      "\n",
      "score of DecisionTreeRegressor() is: 0.9986632706575145\n",
      "Error:\n",
      "Mean absolute error: 4.986437262865912\n",
      "Mean squared error: 44.75510073053097\n",
      "Root Mean Squared Error: 6.6899253157663106\n",
      "r2_score: -0.4964927169757185\n",
      "==============================================================================================\n",
      "\n",
      "\n",
      "score of KNeighborsRegressor() is: 0.3675238191433572\n",
      "Error:\n",
      "Mean absolute error: 4.204322874432976\n",
      "Mean squared error: 27.93696608251107\n",
      "Root Mean Squared Error: 5.28554312086384\n",
      "r2_score: 0.06586141926934974\n",
      "==============================================================================================\n",
      "\n",
      "\n",
      "score of SVR() is: 0.18773780218893021\n",
      "Error:\n",
      "Mean absolute error: 4.078385008257393\n",
      "Mean squared error: 25.630719411235063\n",
      "Root Mean Squared Error: 5.0626790744856685\n",
      "r2_score: 0.1429762350284315\n",
      "==============================================================================================\n",
      "\n",
      "\n",
      "score of Lasso() is: 0.04059564257414672\n",
      "Error:\n",
      "Mean absolute error: 4.521164083274809\n",
      "Mean squared error: 28.796381048186586\n",
      "Root Mean Squared Error: 5.366225959479025\n",
      "r2_score: 0.0371248458732365\n",
      "==============================================================================================\n",
      "\n",
      "\n",
      "score of Ridge() is: 0.09465666463216826\n",
      "Error:\n",
      "Mean absolute error: 4.353593362378349\n",
      "Mean squared error: 27.44863645320764\n",
      "Root Mean Squared Error: 5.2391446299188615\n",
      "r2_score: 0.08218987617834095\n",
      "==============================================================================================\n",
      "\n",
      "\n",
      "score of ElasticNet() is: 0.05995644166363878\n",
      "Error:\n",
      "Mean absolute error: 4.473619298964956\n",
      "Mean squared error: 28.34311114266557\n",
      "Root Mean Squared Error: 5.323824860254662\n",
      "r2_score: 0.052280997940027385\n",
      "==============================================================================================\n",
      "\n",
      "\n",
      "score of RandomForestRegressor() is: 0.8864972872227623\n",
      "Error:\n",
      "Mean absolute error: 3.8476460484661605\n",
      "Mean squared error: 24.040412730678483\n",
      "Root Mean Squared Error: 4.9031023577606945\n",
      "r2_score: 0.19615190274818362\n",
      "==============================================================================================\n",
      "\n",
      "\n",
      "score of AdaBoostRegressor() is: 0.1538570084658477\n",
      "Error:\n",
      "Mean absolute error: 4.253670444084709\n",
      "Mean squared error: 26.3947386097113\n",
      "Root Mean Squared Error: 5.137581007605749\n",
      "r2_score: 0.11742944488637852\n",
      "==============================================================================================\n",
      "\n",
      "\n",
      "score of GradientBoostingRegressor() is: 0.30161371918463187\n",
      "Error:\n",
      "Mean absolute error: 3.9399147365081784\n",
      "Mean squared error: 23.884909708871138\n",
      "Root Mean Squared Error: 4.887219015848496\n",
      "r2_score: 0.2013515143187964\n",
      "==============================================================================================\n",
      "\n",
      "\n"
     ]
    }
   ],
   "source": [
    "#Using algorithms via loop\n",
    "model = [LinearRegression(),DecisionTreeRegressor(),KNeighborsRegressor(),SVR(),Lasso(),Ridge(),ElasticNet(),\n",
    "        RandomForestRegressor(),AdaBoostRegressor(),GradientBoostingRegressor()]\n",
    "for m in model:\n",
    "    m.fit(x_train,y_train)\n",
    "    print('score of',m,'is:',m.score(x_train,y_train))\n",
    "    predm=m.predict(x_test)\n",
    "    \n",
    "    print('Error:')\n",
    "    \n",
    "    print('Mean absolute error:', mean_absolute_error(y_test,predm))\n",
    "    print('Mean squared error:', mean_squared_error(y_test, predm))\n",
    "    print('Root Mean Squared Error:', np.sqrt(mean_squared_error(y_test, predm)))\n",
    "    print('r2_score:',r2_score(y_test, predm))\n",
    "    print('==============================================================================================')\n",
    "    print('\\n')"
   ]
  },
  {
   "cell_type": "markdown",
   "metadata": {},
   "source": [
    "# Observations:"
   ]
  },
  {
   "cell_type": "markdown",
   "metadata": {},
   "source": [
    "RandomForestRegressor has best score.Let's also check the cross validation of all the above models."
   ]
  },
  {
   "cell_type": "code",
   "execution_count": 520,
   "metadata": {},
   "outputs": [
    {
     "name": "stdout",
     "output_type": "stream",
     "text": [
      "Model LinearRegression()\n",
      "Score: [0.10058813 0.07230277 0.07377972 0.10975863]\n",
      "Mean Score: 0.08910731208369213\n",
      "Standard deviation: 0.016398276135113243\n",
      "==========================================================\n",
      "\n",
      "\n",
      "Model DecisionTreeRegressor()\n",
      "Score: [-0.5234778  -0.62616915 -0.47674671 -0.4613733 ]\n",
      "Mean Score: -0.5219417416488847\n",
      "Standard deviation: 0.06437553769780152\n",
      "==========================================================\n",
      "\n",
      "\n",
      "Model KNeighborsRegressor()\n",
      "Score: [0.06886401 0.04314797 0.05893208 0.07022465]\n",
      "Mean Score: 0.06029217641659354\n",
      "Standard deviation: 0.010815546808979951\n",
      "==========================================================\n",
      "\n",
      "\n",
      "Model SVR()\n",
      "Score: [0.1441213  0.12818454 0.13517058 0.15410238]\n",
      "Mean Score: 0.1403947006310316\n",
      "Standard deviation: 0.009723261651948915\n",
      "==========================================================\n",
      "\n",
      "\n",
      "Model Lasso()\n",
      "Score: [0.04014797 0.03461317 0.03795334 0.0406031 ]\n",
      "Mean Score: 0.038329393889947355\n",
      "Standard deviation: 0.0023679483579302956\n",
      "==========================================================\n",
      "\n",
      "\n",
      "Model Ridge()\n",
      "Score: [0.10058474 0.07230809 0.07378598 0.10975438]\n",
      "Mean Score: 0.08910830029164002\n",
      "Standard deviation: 0.01639351935256182\n",
      "==========================================================\n",
      "\n",
      "\n",
      "Model ElasticNet()\n",
      "Score: [0.06098689 0.04864579 0.05377812 0.06268154]\n",
      "Mean Score: 0.05652308579827342\n",
      "Standard deviation: 0.005644436730385181\n",
      "==========================================================\n",
      "\n",
      "\n",
      "Model RandomForestRegressor()\n",
      "Score: [0.21706953 0.17982518 0.18986538 0.19696436]\n",
      "Mean Score: 0.19593111185887052\n",
      "Standard deviation: 0.013639047637343058\n",
      "==========================================================\n",
      "\n",
      "\n",
      "Model AdaBoostRegressor()\n",
      "Score: [0.149917   0.13021877 0.12662352 0.14377234]\n",
      "Mean Score: 0.13763290979269724\n",
      "Standard deviation: 0.009549443898433587\n",
      "==========================================================\n",
      "\n",
      "\n",
      "Model GradientBoostingRegressor()\n",
      "Score: [0.21960764 0.20617492 0.22543849 0.23270122]\n",
      "Mean Score: 0.22098056653291648\n",
      "Standard deviation: 0.009725466169741369\n",
      "==========================================================\n",
      "\n",
      "\n"
     ]
    }
   ],
   "source": [
    "#cross validate the models\n",
    "from sklearn.model_selection import GridSearchCV,cross_val_score\n",
    "models=[LinearRegression(),DecisionTreeRegressor(),KNeighborsRegressor(),SVR(),Lasso(),Ridge(),ElasticNet(),\n",
    "        RandomForestRegressor(),AdaBoostRegressor(),GradientBoostingRegressor()]\n",
    "\n",
    "for m in models:\n",
    "    score = cross_val_score(m,x,y,cv=4,scoring='r2')\n",
    "    print('Model',m)\n",
    "    print('Score:',score)\n",
    "    print('Mean Score:',score.mean())\n",
    "    print('Standard deviation:',score.std())\n",
    "    print('==========================================================')\n",
    "    print('\\n')"
   ]
  },
  {
   "cell_type": "markdown",
   "metadata": {},
   "source": [
    "# Observations:"
   ]
  },
  {
   "cell_type": "markdown",
   "metadata": {},
   "source": [
    "RandomForestRegressor is giving best r2 score of all other models."
   ]
  },
  {
   "cell_type": "code",
   "execution_count": 521,
   "metadata": {},
   "outputs": [
    {
     "name": "stdout",
     "output_type": "stream",
     "text": [
      "{'bootstrap': True, 'max_depth': 20, 'max_features': 'sqrt', 'n_estimators': 100}\n"
     ]
    }
   ],
   "source": [
    "#using GridsearchCV to find the best parameters\n",
    "from sklearn.model_selection import GridSearchCV\n",
    "\n",
    "parameters = {\n",
    "            \"n_estimators\" : [10,50,100],\n",
    "            \"max_features\" : ['auto', 'log2', 'sqrt'],\n",
    "            \"bootstrap\"    : [True, False],\n",
    "            \"max_depth\"    : [20,30,40,50]\n",
    "        }\n",
    "\n",
    "RFR=RandomForestRegressor()\n",
    "\n",
    "clf = GridSearchCV(RFR,parameters)\n",
    "clf.fit(x,y)\n",
    "print(clf.best_params_)"
   ]
  },
  {
   "cell_type": "code",
   "execution_count": 522,
   "metadata": {},
   "outputs": [
    {
     "name": "stdout",
     "output_type": "stream",
     "text": [
      "Score: 0.8552302982245135\n",
      "\n",
      "\n",
      "Mean absolute error: 3.8377707937540255\n",
      "Mean squared error: 23.76483576182004\n",
      "Root Mean Squared Error: 4.874919051822301\n",
      "r2_score: 0.20536647092323812\n"
     ]
    }
   ],
   "source": [
    "#Using RandomForestRegressor model with best results\n",
    "rf=RandomForestRegressor(n_estimators=100,bootstrap= True,max_features='log2',max_depth=20)\n",
    "rf.fit(x_train,y_train)\n",
    "\n",
    "print('Score:',rf.score(x_train,y_train))\n",
    "y_pred=rf.predict(x_test)\n",
    "print('\\n')\n",
    "print('Mean absolute error:', mean_absolute_error(y_test,y_pred))\n",
    "print('Mean squared error:', mean_squared_error(y_test, y_pred))\n",
    "print('Root Mean Squared Error:', np.sqrt(mean_squared_error(y_test, y_pred)))\n",
    "print('r2_score:',r2_score(y_test, y_pred))"
   ]
  },
  {
   "cell_type": "markdown",
   "metadata": {},
   "source": [
    "# Observations:"
   ]
  },
  {
   "cell_type": "markdown",
   "metadata": {},
   "source": [
    "==> Now, r2_score as well as score has improved.So,we choose RandomForestRegressor as the best model."
   ]
  },
  {
   "cell_type": "markdown",
   "metadata": {},
   "source": [
    "# Saving the best model in a pickle file"
   ]
  },
  {
   "cell_type": "code",
   "execution_count": 523,
   "metadata": {},
   "outputs": [
    {
     "data": {
      "text/plain": [
       "['Doctorfee.pkl']"
      ]
     },
     "execution_count": 523,
     "metadata": {},
     "output_type": "execute_result"
    }
   ],
   "source": [
    "#importing joblib\n",
    "import joblib\n",
    "\n",
    "#saving the model in a pickle file\n",
    "joblib.dump(rf,'Doctorfee.pkl')"
   ]
  },
  {
   "cell_type": "markdown",
   "metadata": {},
   "source": [
    "# Testing the model"
   ]
  },
  {
   "cell_type": "markdown",
   "metadata": {},
   "source": [
    "Removing Outliers from Test data and passing it to the model."
   ]
  },
  {
   "cell_type": "code",
   "execution_count": 524,
   "metadata": {},
   "outputs": [
    {
     "data": {
      "image/png": "[encoded data removed]",
      "text/plain": [
       "<Figure size 864x864 with 18 Axes>"
      ]
     },
     "metadata": {
      "needs_background": "light"
     },
     "output_type": "display_data"
    }
   ],
   "source": [
    "test.plot(kind='box', subplots=True, layout=(6,3), figsize=(12,12))\n",
    "plt.show()"
   ]
  },
  {
   "cell_type": "code",
   "execution_count": 525,
   "metadata": {},
   "outputs": [
    {
     "data": {
      "text/plain": [
       "array([[0.1020893 , 1.50699229, 0.43326278, ..., 0.10353434, 1.30991115,\n",
       "        0.84334559],\n",
       "       [0.43041389, 1.15500055, 0.43326278, ..., 0.10353434, 0.86861012,\n",
       "        1.66563462],\n",
       "       [0.01064936, 1.94698195, 4.74659969, ..., 1.76312592, 0.89659398,\n",
       "        0.43960165],\n",
       "       ...,\n",
       "       [1.1511758 , 0.78095398, 0.43326278, ..., 0.10353434, 0.89659398,\n",
       "        0.77739794],\n",
       "       [1.12406513, 0.51696018, 0.08793861, ..., 1.68495214, 1.33789501,\n",
       "        1.51240698],\n",
       "       [0.66708198, 0.86895191, 0.43326278, ..., 2.36716879, 0.89659398,\n",
       "        0.60436483]])"
      ]
     },
     "execution_count": 525,
     "metadata": {},
     "output_type": "execute_result"
    }
   ],
   "source": [
    "from scipy.stats import zscore\n",
    "z = np.abs(zscore(test))\n",
    "z"
   ]
  },
  {
   "cell_type": "code",
   "execution_count": 526,
   "metadata": {},
   "outputs": [
    {
     "name": "stdout",
     "output_type": "stream",
     "text": [
      "(array([   2,   17,   65,   72,  104,  139,  168,  195,  214,  258,  264,\n",
      "        362,  398,  412,  436,  449,  454,  564,  617,  622,  641,  652,\n",
      "        671,  676,  772,  773,  964,  976,  992,  992,  996, 1001, 1061,\n",
      "       1094, 1099, 1121, 1201, 1233, 1246, 1284, 1288, 1294, 1297, 1337,\n",
      "       1394, 1405, 1425, 1451, 1501, 1530, 1566, 1640, 1657, 1724, 1776,\n",
      "       1790, 1825, 1830, 1856, 1875, 1958], dtype=int64), array([2, 2, 2, 2, 1, 2, 2, 2, 2, 1, 1, 2, 1, 2, 2, 2, 2, 2, 1, 2, 1, 2,\n",
      "       2, 2, 2, 2, 2, 2, 1, 2, 2, 2, 2, 2, 2, 2, 2, 2, 1, 1, 2, 2, 1, 1,\n",
      "       2, 2, 2, 2, 2, 2, 2, 2, 2, 2, 2, 2, 2, 2, 2, 2, 2], dtype=int64))\n"
     ]
    }
   ],
   "source": [
    "threshold = 3\n",
    "print(np.where(z>3))"
   ]
  },
  {
   "cell_type": "code",
   "execution_count": 527,
   "metadata": {},
   "outputs": [],
   "source": [
    "final_test=test[(z<3).all(axis=1)]"
   ]
  },
  {
   "cell_type": "code",
   "execution_count": 528,
   "metadata": {},
   "outputs": [
    {
     "name": "stdout",
     "output_type": "stream",
     "text": [
      "(1987, 7) \t (1927, 7)\n"
     ]
    }
   ],
   "source": [
    "print(test.shape,'\\t',final_test.shape)"
   ]
  },
  {
   "cell_type": "markdown",
   "metadata": {},
   "source": [
    "# Observations :"
   ]
  },
  {
   "cell_type": "markdown",
   "metadata": {},
   "source": [
    "Now,1987 rows reduced to 1927 rows.Therefore,outliers are removed."
   ]
  },
  {
   "cell_type": "markdown",
   "metadata": {},
   "source": [
    "To test the data,we pass final preprocessed test data into the model."
   ]
  },
  {
   "cell_type": "code",
   "execution_count": 529,
   "metadata": {},
   "outputs": [],
   "source": [
    "rf_reloaded = joblib.load('Doctorfee.pkl')"
   ]
  },
  {
   "cell_type": "code",
   "execution_count": 530,
   "metadata": {},
   "outputs": [
    {
     "data": {
      "text/plain": [
       "array([15.6266608 , 15.6266608 , 16.09569055, ..., 16.06808109,\n",
       "       15.26394312, 16.06808109])"
      ]
     },
     "execution_count": 530,
     "metadata": {},
     "output_type": "execute_result"
    }
   ],
   "source": [
    "rf_reloaded.predict(final_test)"
   ]
  },
  {
   "cell_type": "markdown",
   "metadata": {},
   "source": [
    "# Conclusions :"
   ]
  },
  {
   "cell_type": "markdown",
   "metadata": {},
   "source": [
    "==> RandomForestRegressor gave the best score and r2_score.So,we choose RandomForestRegressor as the best model.\n",
    "   \n",
    "==> Test data is passed into the model and made predictions.   "
   ]
  }
 ],
 "metadata": {
  "kernelspec": {
   "display_name": "Python 3",
   "language": "python",
   "name": "python3"
  },
  "language_info": {
   "codemirror_mode": {
    "name": "ipython",
    "version": 3
   },
   "file_extension": ".py",
   "mimetype": "text/x-python",
   "name": "python",
   "nbconvert_exporter": "python",
   "pygments_lexer": "ipython3",
   "version": "3.8.3"
  }
 },
 "nbformat": 4,
 "nbformat_minor": 4
}
